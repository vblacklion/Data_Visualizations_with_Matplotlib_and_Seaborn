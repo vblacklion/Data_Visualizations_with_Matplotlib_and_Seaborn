{
 "cells": [
  {
   "cell_type": "markdown",
   "metadata": {},
   "source": [
    "## Here I provide some good to know features and examples for a quick warm up"
   ]
  },
  {
   "cell_type": "markdown",
   "metadata": {},
   "source": [
    "<a id='toc'></a>\n",
    "### Table of Contents\n",
    "\n",
    "1. [The Zen of Python](#The-Zen-of-Python)\n",
    "2. <a href='#kwd'>Keywords</a>\n",
    "3. <a href='#caem'>Command and Edit Modes</a>\n",
    "4. <a href='#smdex'>Some Markdown Examples</a>\n",
    "5. <a href='#mfalt'>Math Formulae and using LaTex</a>\n",
    "6. <a href='#bif'>Built-in Functions</a>\n",
    "7. <a href='#strings'>Formatted Strings</a>\n",
    "8. <a href='#shadeepcopy'>Shallow and Deep Copies</a>\n",
    "9. <a href='#ladcomp'>List and Dict Comprehensions</a>\n",
    "10. <a href='#numpy'>Numpy</a>\n",
    "11. <a href='#arraydtypes'>Array Data Types</a>\n",
    "12. <a href='#pandas'>Pandas</a>\n",
    "13. <a href='#readwrite'>Reading/Writing Files</a>"
   ]
  },
  {
   "cell_type": "markdown",
   "metadata": {},
   "source": [
    "### The Zen of Python"
   ]
  },
  {
   "cell_type": "code",
   "execution_count": 42,
   "metadata": {},
   "outputs": [
    {
     "name": "stdout",
     "output_type": "stream",
     "text": [
      "The Zen of Python, by Tim Peters\n",
      "\n",
      "Beautiful is better than ugly.\n",
      "Explicit is better than implicit.\n",
      "Simple is better than complex.\n",
      "Complex is better than complicated.\n",
      "Flat is better than nested.\n",
      "Sparse is better than dense.\n",
      "Readability counts.\n",
      "Special cases aren't special enough to break the rules.\n",
      "Although practicality beats purity.\n",
      "Errors should never pass silently.\n",
      "Unless explicitly silenced.\n",
      "In the face of ambiguity, refuse the temptation to guess.\n",
      "There should be one-- and preferably only one --obvious way to do it.\n",
      "Although that way may not be obvious at first unless you're Dutch.\n",
      "Now is better than never.\n",
      "Although never is often better than *right* now.\n",
      "If the implementation is hard to explain, it's a bad idea.\n",
      "If the implementation is easy to explain, it may be a good idea.\n",
      "Namespaces are one honking great idea -- let's do more of those!\n"
     ]
    }
   ],
   "source": [
    "import this"
   ]
  },
  {
   "cell_type": "markdown",
   "metadata": {},
   "source": [
    "----\n",
    "<a href='#toc'>Back to ToC</a>"
   ]
  },
  {
   "cell_type": "markdown",
   "metadata": {},
   "source": [
    "<a id='kwd'></a>\n",
    "### Keywords"
   ]
  },
  {
   "cell_type": "code",
   "execution_count": 44,
   "metadata": {},
   "outputs": [
    {
     "name": "stdout",
     "output_type": "stream",
     "text": [
      "\n",
      "Here is a list of the Python keywords.  Enter any keyword to get more help.\n",
      "\n",
      "False               class               from                or\n",
      "None                continue            global              pass\n",
      "True                def                 if                  raise\n",
      "and                 del                 import              return\n",
      "as                  elif                in                  try\n",
      "assert              else                is                  while\n",
      "async               except              lambda              with\n",
      "await               finally             nonlocal            yield\n",
      "break               for                 not                 \n",
      "\n"
     ]
    }
   ],
   "source": [
    "help('keywords')"
   ]
  },
  {
   "cell_type": "markdown",
   "metadata": {},
   "source": [
    "----\n",
    "<a href='#toc'>Back to ToC</a>"
   ]
  },
  {
   "cell_type": "markdown",
   "metadata": {},
   "source": [
    "<a id='caem'></a>\n",
    "### Command and Edit Modes"
   ]
  },
  {
   "cell_type": "markdown",
   "metadata": {},
   "source": [
    "- Enter : Edit Mode, makes the cursor active and goes in the selected cell.\n",
    "    - Ctrl + Shift + minus : Splits the cell at cursor position  \n",
    "    - Shift-Tab : Shows tooltip\n",
    "- Esc : Command Mode, deactivates the cursor and text editing.\n",
    "    - y : Change to Code\n",
    "    - m : Change to Markdown\n",
    "    - b : Insert new cell below\n",
    "    - a : Insert new cell above\n",
    "    - dd : Delete the cell\n",
    "    - h : Keyboard shortcuts\n",
    "    - Shift + m : Combines selected cells"
   ]
  },
  {
   "cell_type": "code",
   "execution_count": 2,
   "metadata": {},
   "outputs": [
    {
     "name": "stdout",
     "output_type": "stream",
     "text": [
      "Ctrl + Enter: Just runs the cell.\n"
     ]
    }
   ],
   "source": [
    "print(\"Ctrl + Enter:\", \"Just runs the cell.\")"
   ]
  },
  {
   "cell_type": "code",
   "execution_count": 4,
   "metadata": {},
   "outputs": [
    {
     "name": "stdout",
     "output_type": "stream",
     "text": [
      "Alt + Enter: Runs the cell and insert a new cell below.\n"
     ]
    }
   ],
   "source": [
    "print(\"Alt + Enter:\", \"Runs the cell and insert a new cell below.\")"
   ]
  },
  {
   "cell_type": "code",
   "execution_count": null,
   "metadata": {},
   "outputs": [],
   "source": []
  },
  {
   "cell_type": "code",
   "execution_count": 7,
   "metadata": {},
   "outputs": [
    {
     "name": "stdout",
     "output_type": "stream",
     "text": [
      "Shift + Enter: Runs the cell and goes to the next cell below. If there is no cell below, then inserts a new cell.\n"
     ]
    }
   ],
   "source": [
    "print(\"Shift + Enter:\", \"Runs the cell and goes to the next cell below. If there is no cell below, then inserts a new cell.\")"
   ]
  },
  {
   "cell_type": "markdown",
   "metadata": {},
   "source": [
    "#### Specific Commands: Line and Cell Magics"
   ]
  },
  {
   "cell_type": "markdown",
   "metadata": {},
   "source": [
    "- Line magic : %\n",
    "- Cell magic : %%"
   ]
  },
  {
   "cell_type": "code",
   "execution_count": 1,
   "metadata": {},
   "outputs": [
    {
     "name": "stdout",
     "output_type": "stream",
     "text": [
      "We can see the available Line and Cell Magic commands as follows...\n"
     ]
    }
   ],
   "source": [
    "print(\"We can see the available Line and Cell Magic commands as follows...\")\n",
    "magic_commands = %lsmagic"
   ]
  },
  {
   "cell_type": "code",
   "execution_count": 3,
   "metadata": {},
   "outputs": [
    {
     "data": {
      "application/json": {
       "cell": {
        "!": "OSMagics",
        "HTML": "Other",
        "SVG": "Other",
        "bash": "Other",
        "capture": "ExecutionMagics",
        "cmd": "Other",
        "debug": "ExecutionMagics",
        "file": "Other",
        "html": "DisplayMagics",
        "javascript": "DisplayMagics",
        "js": "DisplayMagics",
        "latex": "DisplayMagics",
        "markdown": "DisplayMagics",
        "perl": "Other",
        "prun": "ExecutionMagics",
        "pypy": "Other",
        "python": "Other",
        "python2": "Other",
        "python3": "Other",
        "ruby": "Other",
        "script": "ScriptMagics",
        "sh": "Other",
        "svg": "DisplayMagics",
        "sx": "OSMagics",
        "system": "OSMagics",
        "time": "ExecutionMagics",
        "timeit": "ExecutionMagics",
        "writefile": "OSMagics"
       },
       "line": {
        "alias": "OSMagics",
        "alias_magic": "BasicMagics",
        "autoawait": "AsyncMagics",
        "autocall": "AutoMagics",
        "automagic": "AutoMagics",
        "autosave": "KernelMagics",
        "bookmark": "OSMagics",
        "cd": "OSMagics",
        "clear": "KernelMagics",
        "cls": "KernelMagics",
        "colors": "BasicMagics",
        "conda": "PackagingMagics",
        "config": "ConfigMagics",
        "connect_info": "KernelMagics",
        "copy": "Other",
        "ddir": "Other",
        "debug": "ExecutionMagics",
        "dhist": "OSMagics",
        "dirs": "OSMagics",
        "doctest_mode": "BasicMagics",
        "echo": "Other",
        "ed": "Other",
        "edit": "KernelMagics",
        "env": "OSMagics",
        "gui": "BasicMagics",
        "hist": "Other",
        "history": "HistoryMagics",
        "killbgscripts": "ScriptMagics",
        "ldir": "Other",
        "less": "KernelMagics",
        "load": "CodeMagics",
        "load_ext": "ExtensionMagics",
        "loadpy": "CodeMagics",
        "logoff": "LoggingMagics",
        "logon": "LoggingMagics",
        "logstart": "LoggingMagics",
        "logstate": "LoggingMagics",
        "logstop": "LoggingMagics",
        "ls": "Other",
        "lsmagic": "BasicMagics",
        "macro": "ExecutionMagics",
        "magic": "BasicMagics",
        "matplotlib": "PylabMagics",
        "mkdir": "Other",
        "more": "KernelMagics",
        "notebook": "BasicMagics",
        "page": "BasicMagics",
        "pastebin": "CodeMagics",
        "pdb": "ExecutionMagics",
        "pdef": "NamespaceMagics",
        "pdoc": "NamespaceMagics",
        "pfile": "NamespaceMagics",
        "pinfo": "NamespaceMagics",
        "pinfo2": "NamespaceMagics",
        "pip": "PackagingMagics",
        "popd": "OSMagics",
        "pprint": "BasicMagics",
        "precision": "BasicMagics",
        "prun": "ExecutionMagics",
        "psearch": "NamespaceMagics",
        "psource": "NamespaceMagics",
        "pushd": "OSMagics",
        "pwd": "OSMagics",
        "pycat": "OSMagics",
        "pylab": "PylabMagics",
        "qtconsole": "KernelMagics",
        "quickref": "BasicMagics",
        "recall": "HistoryMagics",
        "rehashx": "OSMagics",
        "reload_ext": "ExtensionMagics",
        "ren": "Other",
        "rep": "Other",
        "rerun": "HistoryMagics",
        "reset": "NamespaceMagics",
        "reset_selective": "NamespaceMagics",
        "rmdir": "Other",
        "run": "ExecutionMagics",
        "save": "CodeMagics",
        "sc": "OSMagics",
        "set_env": "OSMagics",
        "store": "StoreMagics",
        "sx": "OSMagics",
        "system": "OSMagics",
        "tb": "ExecutionMagics",
        "time": "ExecutionMagics",
        "timeit": "ExecutionMagics",
        "unalias": "OSMagics",
        "unload_ext": "ExtensionMagics",
        "who": "NamespaceMagics",
        "who_ls": "NamespaceMagics",
        "whos": "NamespaceMagics",
        "xdel": "NamespaceMagics",
        "xmode": "BasicMagics"
       }
      },
      "text/plain": [
       "Available line magics:\n",
       "%alias  %alias_magic  %autoawait  %autocall  %automagic  %autosave  %bookmark  %cd  %clear  %cls  %colors  %conda  %config  %connect_info  %copy  %ddir  %debug  %dhist  %dirs  %doctest_mode  %echo  %ed  %edit  %env  %gui  %hist  %history  %killbgscripts  %ldir  %less  %load  %load_ext  %loadpy  %logoff  %logon  %logstart  %logstate  %logstop  %ls  %lsmagic  %macro  %magic  %matplotlib  %mkdir  %more  %notebook  %page  %pastebin  %pdb  %pdef  %pdoc  %pfile  %pinfo  %pinfo2  %pip  %popd  %pprint  %precision  %prun  %psearch  %psource  %pushd  %pwd  %pycat  %pylab  %qtconsole  %quickref  %recall  %rehashx  %reload_ext  %ren  %rep  %rerun  %reset  %reset_selective  %rmdir  %run  %save  %sc  %set_env  %store  %sx  %system  %tb  %time  %timeit  %unalias  %unload_ext  %who  %who_ls  %whos  %xdel  %xmode\n",
       "\n",
       "Available cell magics:\n",
       "%%!  %%HTML  %%SVG  %%bash  %%capture  %%cmd  %%debug  %%file  %%html  %%javascript  %%js  %%latex  %%markdown  %%perl  %%prun  %%pypy  %%python  %%python2  %%python3  %%ruby  %%script  %%sh  %%svg  %%sx  %%system  %%time  %%timeit  %%writefile\n",
       "\n",
       "Automagic is ON, % prefix IS NOT needed for line magics."
      ]
     },
     "execution_count": 3,
     "metadata": {},
     "output_type": "execute_result"
    }
   ],
   "source": [
    "%lsmagic"
   ]
  },
  {
   "cell_type": "code",
   "execution_count": 36,
   "metadata": {},
   "outputs": [
    {
     "data": {
      "text/plain": [
       "IPython.core.magics.basic.MagicsDisplay"
      ]
     },
     "execution_count": 36,
     "metadata": {},
     "output_type": "execute_result"
    }
   ],
   "source": [
    "# Let's see the type of this output.\n",
    "type(magic_commands)"
   ]
  },
  {
   "cell_type": "code",
   "execution_count": 37,
   "metadata": {},
   "outputs": [
    {
     "name": "stdout",
     "output_type": "stream",
     "text": [
      "  1 :  %alias\n",
      "  2 :  %alias_magic\n",
      "  3 :  %autoawait\n",
      "  4 :  %autocall\n",
      "  5 :  %automagic\n",
      "  6 :  %autosave\n",
      "  7 :  %bookmark\n",
      "  8 :  %cd\n",
      "  9 :  %clear\n",
      " 10 :  %cls\n",
      " 11 :  %colors\n",
      " 12 :  %conda\n",
      " 13 :  %config\n",
      " 14 :  %connect_info\n",
      " 15 :  %copy\n",
      " 16 :  %ddir\n",
      " 17 :  %debug\n",
      " 18 :  %dhist\n",
      " 19 :  %dirs\n",
      " 20 :  %doctest_mode\n",
      " 21 :  %echo\n",
      " 22 :  %ed\n",
      " 23 :  %edit\n",
      " 24 :  %env\n",
      " 25 :  %gui\n",
      " 26 :  %hist\n",
      " 27 :  %history\n",
      " 28 :  %killbgscripts\n",
      " 29 :  %ldir\n",
      " 30 :  %less\n",
      " 31 :  %load\n",
      " 32 :  %load_ext\n",
      " 33 :  %loadpy\n",
      " 34 :  %logoff\n",
      " 35 :  %logon\n",
      " 36 :  %logstart\n",
      " 37 :  %logstate\n",
      " 38 :  %logstop\n",
      " 39 :  %ls\n",
      " 40 :  %lsmagic\n",
      " 41 :  %macro\n",
      " 42 :  %magic\n",
      " 43 :  %matplotlib\n",
      " 44 :  %mkdir\n",
      " 45 :  %more\n",
      " 46 :  %notebook\n",
      " 47 :  %page\n",
      " 48 :  %pastebin\n",
      " 49 :  %pdb\n",
      " 50 :  %pdef\n",
      " 51 :  %pdoc\n",
      " 52 :  %pfile\n",
      " 53 :  %pinfo\n",
      " 54 :  %pinfo2\n",
      " 55 :  %pip\n",
      " 56 :  %popd\n",
      " 57 :  %pprint\n",
      " 58 :  %precision\n",
      " 59 :  %prun\n",
      " 60 :  %psearch\n",
      " 61 :  %psource\n",
      " 62 :  %pushd\n",
      " 63 :  %pwd\n",
      " 64 :  %pycat\n",
      " 65 :  %pylab\n",
      " 66 :  %qtconsole\n",
      " 67 :  %quickref\n",
      " 68 :  %recall\n",
      " 69 :  %rehashx\n",
      " 70 :  %reload_ext\n",
      " 71 :  %ren\n",
      " 72 :  %rep\n",
      " 73 :  %rerun\n",
      " 74 :  %reset\n",
      " 75 :  %reset_selective\n",
      " 76 :  %rmdir\n",
      " 77 :  %run\n",
      " 78 :  %save\n",
      " 79 :  %sc\n",
      " 80 :  %set_env\n",
      " 81 :  %store\n",
      " 82 :  %sx\n",
      " 83 :  %system\n",
      " 84 :  %tb\n",
      " 85 :  %time\n",
      " 86 :  %timeit\n",
      " 87 :  %unalias\n",
      " 88 :  %unload_ext\n",
      " 89 :  %who\n",
      " 90 :  %who_ls\n",
      " 91 :  %whos\n",
      " 92 :  %xdel\n",
      " 93 :  %xmode\n",
      " 94 :  %%!\n",
      " 95 :  %%HTML\n",
      " 96 :  %%SVG\n",
      " 97 :  %%bash\n",
      " 98 :  %%capture\n",
      " 99 :  %%cmd\n",
      "100 :  %%debug\n",
      "101 :  %%file\n",
      "102 :  %%html\n",
      "103 :  %%javascript\n",
      "104 :  %%js\n",
      "105 :  %%latex\n",
      "106 :  %%markdown\n",
      "107 :  %%perl\n",
      "108 :  %%prun\n",
      "109 :  %%pypy\n",
      "110 :  %%python\n",
      "111 :  %%python2\n",
      "112 :  %%python3\n",
      "113 :  %%ruby\n",
      "114 :  %%script\n",
      "115 :  %%sh\n",
      "116 :  %%svg\n",
      "117 :  %%sx\n",
      "118 :  %%system\n",
      "119 :  %%time\n",
      "120 :  %%timeit\n",
      "121 :  %%writefile\n",
      "There are 121 magic commands.\n"
     ]
    }
   ],
   "source": [
    "# I will convert it to string type then using split() method I will create a list.\n",
    "magic_split = str(magic_commands).split() #default delimiter is space!\n",
    "\n",
    "# Now we can iterate over this list and print the magic commands\n",
    "counter = 0\n",
    "for item in magic_split:\n",
    "    if item.startswith('%') and len(item) > 1:\n",
    "        counter += 1\n",
    "        print(str(counter).rjust(3), \": \", item)\n",
    "    \n",
    "print(f'There are {counter} magic commands.')"
   ]
  },
  {
   "cell_type": "code",
   "execution_count": 25,
   "metadata": {},
   "outputs": [],
   "source": [
    "# So, now we have learned that there are 121 magic commands and 93 of these is line magic commands and the remaining 28 \n",
    "# command is cell magic commands."
   ]
  },
  {
   "cell_type": "code",
   "execution_count": 35,
   "metadata": {},
   "outputs": [],
   "source": [
    "# We can add ? to the end of a magic command to get some help about it.\n",
    "# or we can use shift + tab as well\n",
    "%%timeit?"
   ]
  },
  {
   "cell_type": "markdown",
   "metadata": {},
   "source": [
    "----\n",
    "<a href='#toc'>Back to ToC</a>"
   ]
  },
  {
   "cell_type": "markdown",
   "metadata": {},
   "source": [
    "<a id='smdex'></a>\n",
    "### Some Markdown Examples"
   ]
  },
  {
   "cell_type": "markdown",
   "metadata": {},
   "source": [
    "#### Table of Contents\n",
    "\n",
    "1. [Title 1](#Title-1)  \n",
    "\n",
    "2. [Title 2](#Title-2)\n",
    "\n",
    "1. [Title 3](#Title-3)  \n",
    "    1. [Subtitle 1](#Subtitle-1)  \n",
    "    1. [Subtitle 2](#Subtitle-2) \n",
    "    \n",
    "1. <a href=\"#colnotbox\">Colored Note Boxes</a>\n",
    "2. <a href=\"#embedcode\">Embedded Code Block in Markdown</a>"
   ]
  },
  {
   "cell_type": "markdown",
   "metadata": {},
   "source": [
    "-----\n",
    "[Back to TOC](#Table-of-Contents)\n",
    "\n",
    "## Title 1\n",
    "\n"
   ]
  },
  {
   "cell_type": "markdown",
   "metadata": {},
   "source": [
    "-----\n",
    "[Back to TOC](#Table-of-Contents)\n",
    "\n",
    "## Title 2"
   ]
  },
  {
   "cell_type": "markdown",
   "metadata": {},
   "source": [
    "-----\n",
    "[Back to TOC](#Table-of-Contents)\n",
    "\n",
    "## Title 3"
   ]
  },
  {
   "cell_type": "markdown",
   "metadata": {},
   "source": [
    "-----\n",
    "[Back to TOC](#Table-of-Contents)\n",
    "\n",
    "#### Subtitle-1"
   ]
  },
  {
   "cell_type": "markdown",
   "metadata": {},
   "source": [
    "-----\n",
    "[Back to TOC](#Table-of-Contents)\n",
    "\n",
    "#### Subtitle-2"
   ]
  },
  {
   "cell_type": "markdown",
   "metadata": {},
   "source": [
    "<a id=\"colnotbox\"></a>\n",
    "### Colored Note Boxes"
   ]
  },
  {
   "cell_type": "markdown",
   "metadata": {},
   "source": [
    "<div class=\"alert alert-block alert-info\">\n",
    "    <b>Tip: ALert Block Blue</b>\n",
    "</div>"
   ]
  },
  {
   "cell_type": "markdown",
   "metadata": {},
   "source": [
    "<div class=\"alert alert-block alert-warning\">\n",
    "    <b>Tip: ALert Block Yellow</b>\n",
    "</div>"
   ]
  },
  {
   "cell_type": "markdown",
   "metadata": {},
   "source": [
    "<div class=\"alert alert-block alert-danger\">\n",
    "    <b>Tip: ALert Block Red</b>\n",
    "</div>"
   ]
  },
  {
   "cell_type": "markdown",
   "metadata": {},
   "source": [
    "<div class=\"alert alert-block alert-success\">\n",
    "    <b>Tip: ALert Block Green</b>\n",
    "</div>"
   ]
  },
  {
   "cell_type": "markdown",
   "metadata": {},
   "source": [
    "<a id=\"embedcode\"></a>\n",
    "### Embedded Code Block in Markdown"
   ]
  },
  {
   "cell_type": "markdown",
   "metadata": {},
   "source": [
    "```Python\n",
    "str = \"This is a python block level code\"\n",
    "print(str)\n",
    "```\n",
    "```javascript\n",
    "console.log(\"This is a javascript block level code\");\n",
    "```"
   ]
  },
  {
   "cell_type": "markdown",
   "metadata": {},
   "source": [
    "<code>Python\n",
    "str = \"This is also a block level code\"\n",
    "print(str)\n",
    "</code>"
   ]
  },
  {
   "cell_type": "markdown",
   "metadata": {},
   "source": [
    "<a id='mfalt'></a>\n",
    "### Math Formulae and using LaTex"
   ]
  },
  {
   "cell_type": "code",
   "execution_count": 41,
   "metadata": {},
   "outputs": [],
   "source": [
    "# Some examples"
   ]
  },
  {
   "cell_type": "markdown",
   "metadata": {},
   "source": [
    "alpha: $\\alpha$"
   ]
  },
  {
   "cell_type": "markdown",
   "metadata": {},
   "source": [
    "beta: $\\beta$"
   ]
  },
  {
   "cell_type": "markdown",
   "metadata": {},
   "source": [
    " theta : $\\theta$"
   ]
  },
  {
   "cell_type": "markdown",
   "metadata": {},
   "source": [
    "$\\int_0^{\\pi} \\sin(\\theta)\\ d\\theta = 2$"
   ]
  },
  {
   "cell_type": "markdown",
   "metadata": {},
   "source": [
    "The formula to calculate Body Mass Index (BMI) (assuming weight in pounds and height in inches) \n",
    "\n",
    "$BMI = \\large{\\frac{weight \\times 703}{height^2}}$"
   ]
  },
  {
   "cell_type": "markdown",
   "metadata": {},
   "source": [
    "$$\n",
    "\\Sigma=\\left[\n",
    "\\begin{array}{ccc}\n",
    "   \\sigma_{11} & \\cdots & \\sigma_{1n} \\\\\n",
    "   \\vdots & \\ddots & \\vdots \\\\\n",
    "   \\sigma_{n1} & \\cdots & \\sigma_{nn}\n",
    "\\end{array}\n",
    "\\right]\n",
    "$$"
   ]
  },
  {
   "cell_type": "markdown",
   "metadata": {},
   "source": [
    "$e^x=\\sum_{i=0}^\\infty \\frac{1}{i!}x^î$"
   ]
  },
  {
   "cell_type": "markdown",
   "metadata": {},
   "source": [
    "-----\n",
    "[Back to TOC](#Table-of-Contents)"
   ]
  },
  {
   "cell_type": "markdown",
   "metadata": {},
   "source": [
    "<a id='bif'></a>\n",
    "### Built-in Functions (with embedded HTML)"
   ]
  },
  {
   "cell_type": "code",
   "execution_count": 46,
   "metadata": {},
   "outputs": [
    {
     "data": {
      "text/html": [
       "\n",
       "        <iframe\n",
       "            width=\"1000\"\n",
       "            height=\"600\"\n",
       "            src=\"https://docs.python.org/3/library/functions.html#built-in-functions\"\n",
       "            frameborder=\"0\"\n",
       "            allowfullscreen\n",
       "        ></iframe>\n",
       "        "
      ],
      "text/plain": [
       "<IPython.lib.display.IFrame at 0x2614c46e790>"
      ]
     },
     "execution_count": 46,
     "metadata": {},
     "output_type": "execute_result"
    }
   ],
   "source": [
    "from IPython.display import IFrame\n",
    "\n",
    "IFrame(src='https://docs.python.org/3/library/functions.html#built-in-functions', width=1000, height=600)"
   ]
  },
  {
   "cell_type": "markdown",
   "metadata": {},
   "source": [
    "----\n",
    "<a href='#toc'>Back to ToC</a>"
   ]
  },
  {
   "cell_type": "markdown",
   "metadata": {},
   "source": [
    "<a id='strings'></a>\n",
    "### Formatted Strings"
   ]
  },
  {
   "cell_type": "code",
   "execution_count": 53,
   "metadata": {},
   "outputs": [
    {
     "name": "stdout",
     "output_type": "stream",
     "text": [
      "This is a number with leading zeros. => \"0000005\"\n"
     ]
    }
   ],
   "source": [
    "# Leading (prepending) zeros\n",
    "num1 = 5\n",
    "print(f'This is a number with leading zeros. => \"{num1:07}\"')"
   ]
  },
  {
   "cell_type": "code",
   "execution_count": 52,
   "metadata": {},
   "outputs": [
    {
     "name": "stdout",
     "output_type": "stream",
     "text": [
      "This is a number with leading spaces. => \"      5\"\n"
     ]
    }
   ],
   "source": [
    "print(f'This is a number with leading spaces. => \"{num1:7}\"')"
   ]
  },
  {
   "cell_type": "code",
   "execution_count": 63,
   "metadata": {
    "scrolled": true
   },
   "outputs": [
    {
     "name": "stdout",
     "output_type": "stream",
     "text": [
      "This is a number with leading zeros and three digit decimal. => \"00123.130\"\n"
     ]
    }
   ],
   "source": [
    "num2 = 123.12999999\n",
    "print(f'This is a number with leading zeros and three digit decimal. => \"{num2:09.3f}\"')"
   ]
  },
  {
   "cell_type": "code",
   "execution_count": 65,
   "metadata": {},
   "outputs": [
    {
     "name": "stdout",
     "output_type": "stream",
     "text": [
      "This is a number with leading spaces and three digit decimal. => \"  123.130\"\n"
     ]
    }
   ],
   "source": [
    "num2 = 123.12999999\n",
    "print(f'This is a number with leading spaces and three digit decimal. => \"{num2:9.3f}\"')"
   ]
  },
  {
   "cell_type": "markdown",
   "metadata": {},
   "source": [
    "----\n",
    "<a href='#toc'>Back to ToC</a>"
   ]
  },
  {
   "cell_type": "markdown",
   "metadata": {},
   "source": [
    "<a id='shadeepcopy'></a>\n",
    "### Shallow and Deep Copies"
   ]
  },
  {
   "cell_type": "code",
   "execution_count": 71,
   "metadata": {},
   "outputs": [],
   "source": [
    "original = [\"a\", \"b\", \"c\", \"d\"]\n",
    "\n",
    "# deep copy 1\n",
    "deep_copy1 = original[:]\n",
    "\n",
    "# deep copy 2\n",
    "deep_copy2 = original.copy()\n",
    "\n",
    "# shallow copy\n",
    "shallow_copy = original\n"
   ]
  },
  {
   "cell_type": "code",
   "execution_count": 72,
   "metadata": {},
   "outputs": [],
   "source": [
    "# Now we will change the copies and then check if the original list has changed or not.\n",
    "# First attempt\n",
    "deep_copy1[:] = \"dc1\""
   ]
  },
  {
   "cell_type": "code",
   "execution_count": 77,
   "metadata": {},
   "outputs": [
    {
     "name": "stdout",
     "output_type": "stream",
     "text": [
      "Deep Copy 1:  ['d', 'c', '1']\n",
      "Original: ['a', 'b', 'c', 'd']\n"
     ]
    }
   ],
   "source": [
    "print(\"Deep Copy 1: \", deep_copy1)\n",
    "print(\"Original:\", original)"
   ]
  },
  {
   "cell_type": "code",
   "execution_count": 76,
   "metadata": {},
   "outputs": [],
   "source": [
    "# Second attempt\n",
    "deep_copy2[:] = \"dc2\""
   ]
  },
  {
   "cell_type": "code",
   "execution_count": 78,
   "metadata": {},
   "outputs": [
    {
     "name": "stdout",
     "output_type": "stream",
     "text": [
      "Deep Copy 2:  ['d', 'c', '2']\n",
      "Original: ['a', 'b', 'c', 'd']\n"
     ]
    }
   ],
   "source": [
    "print(\"Deep Copy 2: \", deep_copy2)\n",
    "print(\"Original:\", original)"
   ]
  },
  {
   "cell_type": "code",
   "execution_count": 80,
   "metadata": {},
   "outputs": [],
   "source": [
    "# Second attempt\n",
    "shallow_copy[:] = \"shallow\""
   ]
  },
  {
   "cell_type": "code",
   "execution_count": 81,
   "metadata": {},
   "outputs": [
    {
     "name": "stdout",
     "output_type": "stream",
     "text": [
      "Shallow Copy:  ['s', 'h', 'a', 'l', 'l', 'o', 'w']\n",
      "Original: ['s', 'h', 'a', 'l', 'l', 'o', 'w']\n"
     ]
    }
   ],
   "source": [
    "print(\"Shallow Copy: \", shallow_copy)\n",
    "print(\"Original:\", original)"
   ]
  },
  {
   "cell_type": "code",
   "execution_count": 82,
   "metadata": {},
   "outputs": [],
   "source": [
    "# As we can see above, the change in a shallow copy changes the original data! "
   ]
  },
  {
   "cell_type": "markdown",
   "metadata": {},
   "source": [
    "----\n",
    "<a href='#toc'>Back to ToC</a>"
   ]
  },
  {
   "cell_type": "markdown",
   "metadata": {},
   "source": [
    "<a id='ladcomp'></a>\n",
    "### List and Dict Comprehensions"
   ]
  },
  {
   "cell_type": "code",
   "execution_count": 97,
   "metadata": {},
   "outputs": [
    {
     "data": {
      "text/plain": [
       "[0, 1, 2, 3, 4, 5, 6, 7, 8, 9]"
      ]
     },
     "execution_count": 97,
     "metadata": {},
     "output_type": "execute_result"
    }
   ],
   "source": [
    "# List comprehension\n",
    "list_comp = [num for num in range(10)]\n",
    "list_comp"
   ]
  },
  {
   "cell_type": "code",
   "execution_count": 99,
   "metadata": {},
   "outputs": [
    {
     "data": {
      "text/plain": [
       "{3: {3, 9, 27}, 4: {4, 16, 64}, 5: {5, 25, 125}, 6: {6, 36, 216}}"
      ]
     },
     "execution_count": 99,
     "metadata": {},
     "output_type": "execute_result"
    }
   ],
   "source": [
    "# Dict comprehension\n",
    "dict_comp = {num: {num, num**2, num**3} for num in range(3, 7)}\n",
    "dict_comp"
   ]
  },
  {
   "cell_type": "markdown",
   "metadata": {},
   "source": [
    "----\n",
    "<a href='#toc'>Back to ToC</a>"
   ]
  },
  {
   "cell_type": "markdown",
   "metadata": {},
   "source": [
    "<a id='numpy'></a>\n",
    "### Numpy"
   ]
  },
  {
   "cell_type": "code",
   "execution_count": 1,
   "metadata": {},
   "outputs": [
    {
     "name": "stdout",
     "output_type": "stream",
     "text": [
      "[0 1 2 3 4 5 6 7 8 9]\n",
      "np.empty:  [4.67296746e-307 1.69121096e-306 1.24611673e-306 6.23058028e-307\n",
      " 8.45593934e-307 7.56593017e-307 1.20161390e-306 1.78021391e-306\n",
      " 1.24611470e-306 0.00000000e+000]\n",
      "np.zeros:  [0. 0. 0. 0. 0. 0. 0. 0. 0. 0.]\n",
      "\n",
      "np.ones:  [1. 1. 1. 1. 1. 1. 1. 1. 1. 1.]\n",
      "np.ones_like:  [1 1 1 1 1 1 1 1 1 1]\n",
      "np.empty_like:  [0 1 2 3 4 5 6 7 8 9]\n",
      "np.zeros_like:  [0 0 0 0 0 0 0 0 0 0]\n"
     ]
    }
   ],
   "source": [
    "import numpy as np\n",
    "\n",
    "print(np.array([0, 1, 2, 3, 4, 5, 6, 7, 8, 9]))\n",
    "\n",
    "print(\"np.empty: \", np.empty(10))\n",
    "print(\"np.zeros: \", np.zeros(10))\n",
    "print()\n",
    "print(\"np.ones: \", np.ones(10))\n",
    "print(\"np.ones_like: \", np.ones_like(np.arange(10)))\n",
    "print(\"np.empty_like: \", np.empty_like(np.arange(10)))\n",
    "print(\"np.zeros_like: \", np.zeros_like(np.arange(10)))"
   ]
  },
  {
   "cell_type": "code",
   "execution_count": 6,
   "metadata": {},
   "outputs": [],
   "source": [
    "np.empty?"
   ]
  },
  {
   "cell_type": "code",
   "execution_count": 2,
   "metadata": {},
   "outputs": [
    {
     "name": "stdout",
     "output_type": "stream",
     "text": [
      "[0 1 2 3 4 5 6 7 8 9]\n",
      "np.empty:  [1. 1. 1. 1. 1. 1. 1. 1. 1. 1.]\n",
      "np.zeros:  [0. 0. 0. 0. 0. 0. 0. 0. 0. 0.]\n",
      "\n",
      "np.ones:  [1. 1. 1. 1. 1. 1. 1. 1. 1. 1.]\n",
      "np.ones_like:  [1 1 1 1 1 1 1 1 1 1]\n",
      "np.empty_like:  [0 1 2 3 4 5 6 7 8 9]\n",
      "np.zeros_like:  [0 0 0 0 0 0 0 0 0 0]\n"
     ]
    }
   ],
   "source": [
    "print(np.array([0, 1, 2, 3, 4, 5, 6, 7, 8, 9]))\n",
    "\n",
    "print(\"np.empty: \", np.empty(10))\n",
    "print(\"np.zeros: \", np.zeros(10))\n",
    "print()\n",
    "print(\"np.ones: \", np.ones(10))\n",
    "print(\"np.ones_like: \", np.ones_like(np.arange(10)))\n",
    "print(\"np.empty_like: \", np.empty_like(np.arange(10)))\n",
    "print(\"np.zeros_like: \", np.zeros_like(np.arange(10)))"
   ]
  },
  {
   "cell_type": "code",
   "execution_count": 67,
   "metadata": {},
   "outputs": [
    {
     "name": "stdout",
     "output_type": "stream",
     "text": [
      "[0 1 2 3 4 5 6]\n",
      "[1 3 5]\n",
      "[0. 1. 2. 3. 4. 5.]\n",
      "[0 1 2 3 4 5]\n"
     ]
    }
   ],
   "source": [
    "print(np.arange(7))\n",
    "print(np.arange(1, 7, 2))\n",
    "print(np.arange(0,6, dtype = 'float64'))\n",
    "print(np.arange(0,6, dtype = 'int32'))"
   ]
  },
  {
   "cell_type": "code",
   "execution_count": 53,
   "metadata": {},
   "outputs": [
    {
     "name": "stdout",
     "output_type": "stream",
     "text": [
      "[ 0.          0.24489796  0.48979592  0.73469388  0.97959184  1.2244898\n",
      "  1.46938776  1.71428571  1.95918367  2.20408163  2.44897959  2.69387755\n",
      "  2.93877551  3.18367347  3.42857143  3.67346939  3.91836735  4.16326531\n",
      "  4.40816327  4.65306122  4.89795918  5.14285714  5.3877551   5.63265306\n",
      "  5.87755102  6.12244898  6.36734694  6.6122449   6.85714286  7.10204082\n",
      "  7.34693878  7.59183673  7.83673469  8.08163265  8.32653061  8.57142857\n",
      "  8.81632653  9.06122449  9.30612245  9.55102041  9.79591837 10.04081633\n",
      " 10.28571429 10.53061224 10.7755102  11.02040816 11.26530612 11.51020408\n",
      " 11.75510204 12.        ]\n",
      "\n",
      "np.linspace uses default 50 bins\n",
      "with the last parameter we can change the bins size.\n",
      "[ 0.  4.  8. 12.]\n"
     ]
    }
   ],
   "source": [
    "print(np.linspace(0,12))  # Default 50 bins\n",
    "print()\n",
    "print('np.linspace uses default 50 bins')\n",
    "print('with the last parameter we can change the bins size.')\n",
    "print(np.linspace(0, 12, 4))"
   ]
  },
  {
   "cell_type": "code",
   "execution_count": 71,
   "metadata": {},
   "outputs": [
    {
     "data": {
      "text/plain": [
       "array([4, 1, 3])"
      ]
     },
     "execution_count": 71,
     "metadata": {},
     "output_type": "execute_result"
    }
   ],
   "source": [
    "np.random.randint(0, 5, 3)"
   ]
  },
  {
   "cell_type": "code",
   "execution_count": 75,
   "metadata": {},
   "outputs": [
    {
     "name": "stdout",
     "output_type": "stream",
     "text": [
      "Mean value = 5.0\n",
      "Median value = 5.0\n",
      "Variance = 6.666666666666667\n",
      "Std. Deviation = 2.581988897471611\n",
      "\n",
      "Minimum value = 1\n",
      "Maximum value = 9\n",
      "\n",
      "Sum of all values = 45\n",
      "Running cumulative sum of all values = [ 1  3  6 10 15 21 28 36 45]\n",
      "\n",
      "Product of all values = 362880\n",
      "Running product of all values = [     1      2      6     24    120    720   5040  40320 362880]\n",
      "\n"
     ]
    }
   ],
   "source": [
    "a = np.arange(1, 10)\n",
    "\n",
    "print(f\"Mean value = {np.mean(a)}\")\n",
    "print(f\"Median value = {np.median(a)}\")\n",
    "print(f\"Variance = {np.var(a)}\")\n",
    "print(f\"Std. Deviation = {np.std(a)}\\n\")\n",
    "\n",
    "print(f\"Minimum value = {np.min(a)}\")\n",
    "print(f\"Maximum value = {np.max(a)}\\n\")\n",
    "\n",
    "print(f\"Sum of all values = {np.sum(a)}\")\n",
    "print(f\"Running cumulative sum of all values = {np.cumsum(a)}\\n\")\n",
    "\n",
    "print(f\"Product of all values = {np.prod(a)}\")\n",
    "print(f\"Running product of all values = {np.cumprod(a)}\\n\")"
   ]
  },
  {
   "cell_type": "code",
   "execution_count": 76,
   "metadata": {},
   "outputs": [
    {
     "data": {
      "text/plain": [
       "array([0, 1, 2, 3, 4, 5, 6])"
      ]
     },
     "execution_count": 76,
     "metadata": {},
     "output_type": "execute_result"
    }
   ],
   "source": [
    "# Booleans\n",
    "num_list = np.arange(7)\n",
    "num_list"
   ]
  },
  {
   "cell_type": "code",
   "execution_count": 108,
   "metadata": {},
   "outputs": [
    {
     "name": "stdout",
     "output_type": "stream",
     "text": [
      "[False False  True  True  True  True  True]\n",
      "[False, True, False, True, False, True, False]\n",
      "|= v  =|= v =|= v =|= v =|= v =|= v =|= v =|\n",
      "[False False False  True False  True False]\n"
     ]
    }
   ],
   "source": [
    "print(num_list >= 2)\n",
    "print(list(map(bool, num_list % 2)))\n",
    "print(\"|= v  =|= v =|= v =|= v =|= v =|= v =|= v =|\")\n",
    "print(np.logical_and(num_list >= 2, num_list % 2))"
   ]
  },
  {
   "cell_type": "code",
   "execution_count": 109,
   "metadata": {},
   "outputs": [
    {
     "data": {
      "text/plain": [
       "RandomState(MT19937) at 0x27307B88040"
      ]
     },
     "execution_count": 109,
     "metadata": {},
     "output_type": "execute_result"
    }
   ],
   "source": [
    "#Generating fixed random values, using seed\n",
    "seed = 11\n",
    "RS = np.random.RandomState(seed)\n",
    "RS"
   ]
  },
  {
   "cell_type": "code",
   "execution_count": 110,
   "metadata": {},
   "outputs": [
    {
     "data": {
      "text/plain": [
       "array([9, 0, 1, 7, 1])"
      ]
     },
     "execution_count": 110,
     "metadata": {},
     "output_type": "execute_result"
    }
   ],
   "source": [
    "RS.randint(0, 10, 5)"
   ]
  },
  {
   "cell_type": "code",
   "execution_count": 112,
   "metadata": {},
   "outputs": [
    {
     "data": {
      "text/plain": [
       "array([0.10517516, 0.22571272, 0.89634075, 0.82618135, 0.09281249])"
      ]
     },
     "execution_count": 112,
     "metadata": {},
     "output_type": "execute_result"
    }
   ],
   "source": [
    "RS.rand(5)"
   ]
  },
  {
   "cell_type": "code",
   "execution_count": 113,
   "metadata": {},
   "outputs": [
    {
     "data": {
      "text/plain": [
       "array([0.32997265, 0.6015713 , 1.49211767, 0.09358016, 1.55013341])"
      ]
     },
     "execution_count": 113,
     "metadata": {},
     "output_type": "execute_result"
    }
   ],
   "source": [
    "RS.randn(5)"
   ]
  },
  {
   "cell_type": "markdown",
   "metadata": {},
   "source": [
    "----\n",
    "<a href='#toc'>Back to ToC</a>"
   ]
  },
  {
   "cell_type": "markdown",
   "metadata": {},
   "source": [
    "<a id='arraydtypes'></a>\n",
    "### Array Data Types"
   ]
  },
  {
   "cell_type": "code",
   "execution_count": 63,
   "metadata": {
    "scrolled": false
   },
   "outputs": [
    {
     "name": "stdout",
     "output_type": "stream",
     "text": [
      "?            : <class 'numpy.bool_'>\n",
      "0            : <class 'numpy.bool_'>\n",
      "byte         : <class 'numpy.int8'>\n",
      "b            : <class 'numpy.int8'>\n",
      "1            : <class 'numpy.int8'>\n",
      "ubyte        : <class 'numpy.uint8'>\n",
      "B            : <class 'numpy.uint8'>\n",
      "2            : <class 'numpy.uint8'>\n",
      "short        : <class 'numpy.int16'>\n",
      "h            : <class 'numpy.int16'>\n",
      "3            : <class 'numpy.int16'>\n",
      "ushort       : <class 'numpy.uint16'>\n",
      "H            : <class 'numpy.uint16'>\n",
      "4            : <class 'numpy.uint16'>\n",
      "i            : <class 'numpy.intc'>\n",
      "5            : <class 'numpy.intc'>\n",
      "uint         : <class 'numpy.uint32'>\n",
      "I            : <class 'numpy.uintc'>\n",
      "6            : <class 'numpy.uintc'>\n",
      "intp         : <class 'numpy.int64'>\n",
      "p            : <class 'numpy.int64'>\n",
      "9            : <class 'numpy.int64'>\n",
      "uintp        : <class 'numpy.uint64'>\n",
      "P            : <class 'numpy.uint64'>\n",
      "10           : <class 'numpy.uint64'>\n",
      "long         : <class 'numpy.int32'>\n",
      "l            : <class 'numpy.int32'>\n",
      "7            : <class 'numpy.int32'>\n",
      "L            : <class 'numpy.uint32'>\n",
      "8            : <class 'numpy.uint32'>\n",
      "longlong     : <class 'numpy.int64'>\n",
      "q            : <class 'numpy.int64'>\n",
      "ulonglong    : <class 'numpy.uint64'>\n",
      "Q            : <class 'numpy.uint64'>\n",
      "half         : <class 'numpy.float16'>\n",
      "e            : <class 'numpy.float16'>\n",
      "23           : <class 'numpy.float16'>\n",
      "f            : <class 'numpy.float32'>\n",
      "11           : <class 'numpy.float32'>\n",
      "double       : <class 'numpy.float64'>\n",
      "d            : <class 'numpy.float64'>\n",
      "12           : <class 'numpy.float64'>\n",
      "longdouble   : <class 'numpy.longdouble'>\n",
      "g            : <class 'numpy.longdouble'>\n",
      "13           : <class 'numpy.longdouble'>\n",
      "cfloat       : <class 'numpy.complex128'>\n",
      "F            : <class 'numpy.complex64'>\n",
      "14           : <class 'numpy.complex64'>\n",
      "cdouble      : <class 'numpy.complex128'>\n",
      "D            : <class 'numpy.complex128'>\n",
      "15           : <class 'numpy.complex128'>\n",
      "clongdouble  : <class 'numpy.clongdouble'>\n",
      "G            : <class 'numpy.clongdouble'>\n",
      "16           : <class 'numpy.clongdouble'>\n",
      "O            : <class 'numpy.object_'>\n",
      "17           : <class 'numpy.object_'>\n",
      "S            : <class 'numpy.bytes_'>\n",
      "18           : <class 'numpy.bytes_'>\n",
      "unicode      : <class 'numpy.str_'>\n",
      "U            : <class 'numpy.str_'>\n",
      "19           : <class 'numpy.str_'>\n",
      "void         : <class 'numpy.void'>\n",
      "V            : <class 'numpy.void'>\n",
      "20           : <class 'numpy.void'>\n",
      "M            : <class 'numpy.datetime64'>\n",
      "21           : <class 'numpy.datetime64'>\n",
      "m            : <class 'numpy.timedelta64'>\n",
      "22           : <class 'numpy.timedelta64'>\n",
      "bool8        : <class 'numpy.bool_'>\n",
      "Bool         : <class 'numpy.bool_'>\n",
      "b1           : <class 'numpy.bool_'>\n",
      "int64        : <class 'numpy.int64'>\n",
      "Int64        : <class 'numpy.int64'>\n",
      "i8           : <class 'numpy.int64'>\n",
      "uint64       : <class 'numpy.uint64'>\n",
      "Uint64       : <class 'numpy.uint64'>\n",
      "u8           : <class 'numpy.uint64'>\n",
      "float16      : <class 'numpy.float16'>\n",
      "Float16      : <class 'numpy.float16'>\n",
      "f2           : <class 'numpy.float16'>\n",
      "float32      : <class 'numpy.float32'>\n",
      "Float32      : <class 'numpy.float32'>\n",
      "f4           : <class 'numpy.float32'>\n",
      "float64      : <class 'numpy.float64'>\n",
      "Float64      : <class 'numpy.float64'>\n",
      "f8           : <class 'numpy.float64'>\n",
      "complex64    : <class 'numpy.complex64'>\n",
      "Complex32    : <class 'numpy.complex64'>\n",
      "c8           : <class 'numpy.complex64'>\n",
      "complex128   : <class 'numpy.complex128'>\n",
      "Complex64    : <class 'numpy.complex128'>\n",
      "c16          : <class 'numpy.complex128'>\n",
      "object0      : <class 'numpy.object_'>\n",
      "Object0      : <class 'numpy.object_'>\n",
      "bytes0       : <class 'numpy.bytes_'>\n",
      "Bytes0       : <class 'numpy.bytes_'>\n",
      "str0         : <class 'numpy.str_'>\n",
      "Str0         : <class 'numpy.str_'>\n",
      "void0        : <class 'numpy.void'>\n",
      "Void0        : <class 'numpy.void'>\n",
      "datetime64   : <class 'numpy.datetime64'>\n",
      "Datetime64   : <class 'numpy.datetime64'>\n",
      "M8           : <class 'numpy.datetime64'>\n",
      "timedelta64  : <class 'numpy.timedelta64'>\n",
      "Timedelta64  : <class 'numpy.timedelta64'>\n",
      "m8           : <class 'numpy.timedelta64'>\n",
      "int32        : <class 'numpy.int32'>\n",
      "Int32        : <class 'numpy.int32'>\n",
      "i4           : <class 'numpy.int32'>\n",
      "uint32       : <class 'numpy.uint32'>\n",
      "UInt32       : <class 'numpy.uint32'>\n",
      "u4           : <class 'numpy.uint32'>\n",
      "UInt64       : <class 'numpy.uint64'>\n",
      "int16        : <class 'numpy.int16'>\n",
      "Int16        : <class 'numpy.int16'>\n",
      "i2           : <class 'numpy.int16'>\n",
      "uint16       : <class 'numpy.uint16'>\n",
      "UInt16       : <class 'numpy.uint16'>\n",
      "u2           : <class 'numpy.uint16'>\n",
      "int8         : <class 'numpy.int8'>\n",
      "Int8         : <class 'numpy.int8'>\n",
      "i1           : <class 'numpy.int8'>\n",
      "uint8        : <class 'numpy.uint8'>\n",
      "UInt8        : <class 'numpy.uint8'>\n",
      "u1           : <class 'numpy.uint8'>\n",
      "complex_     : <class 'numpy.complex128'>\n",
      "int0         : <class 'numpy.int64'>\n",
      "uint0        : <class 'numpy.uint64'>\n",
      "single       : <class 'numpy.float32'>\n",
      "csingle      : <class 'numpy.complex64'>\n",
      "singlecomplex : <class 'numpy.complex64'>\n",
      "float_       : <class 'numpy.float64'>\n",
      "intc         : <class 'numpy.intc'>\n",
      "uintc        : <class 'numpy.uintc'>\n",
      "int_         : <class 'numpy.int32'>\n",
      "longfloat    : <class 'numpy.longdouble'>\n",
      "clongfloat   : <class 'numpy.clongdouble'>\n",
      "longcomplex  : <class 'numpy.clongdouble'>\n",
      "bool_        : <class 'numpy.bool_'>\n",
      "bytes_       : <class 'numpy.bytes_'>\n",
      "string_      : <class 'numpy.bytes_'>\n",
      "str_         : <class 'numpy.str_'>\n",
      "unicode_     : <class 'numpy.str_'>\n",
      "object_      : <class 'numpy.object_'>\n",
      "int          : <class 'numpy.int32'>\n",
      "float        : <class 'numpy.float64'>\n",
      "complex      : <class 'numpy.complex128'>\n",
      "bool         : <class 'numpy.bool_'>\n",
      "object       : <class 'numpy.object_'>\n",
      "str          : <class 'numpy.str_'>\n",
      "bytes        : <class 'numpy.bytes_'>\n",
      "a            : <class 'numpy.bytes_'>\n"
     ]
    }
   ],
   "source": [
    "# Array Data Types\n",
    "for key, val in np.sctypeDict.items():\n",
    "    print(f'{str(key).ljust(12)} : {val}')"
   ]
  },
  {
   "cell_type": "markdown",
   "metadata": {},
   "source": [
    "----\n",
    "<a href='#toc'>Back to ToC</a>"
   ]
  },
  {
   "cell_type": "markdown",
   "metadata": {},
   "source": [
    "<a id='pandas'></a>\n",
    "### Pandas"
   ]
  },
  {
   "cell_type": "code",
   "execution_count": 115,
   "metadata": {},
   "outputs": [
    {
     "data": {
      "text/plain": [
       "a    0\n",
       "b    1\n",
       "c    2\n",
       "d    3\n",
       "e    4\n",
       "dtype: int64"
      ]
     },
     "execution_count": 115,
     "metadata": {},
     "output_type": "execute_result"
    }
   ],
   "source": [
    "import pandas as pd\n",
    "pd.Series(range(5), index=['a', 'b', 'c', 'd', 'e'])"
   ]
  },
  {
   "cell_type": "code",
   "execution_count": 121,
   "metadata": {},
   "outputs": [
    {
     "data": {
      "text/html": [
       "<div>\n",
       "<style scoped>\n",
       "    .dataframe tbody tr th:only-of-type {\n",
       "        vertical-align: middle;\n",
       "    }\n",
       "\n",
       "    .dataframe tbody tr th {\n",
       "        vertical-align: top;\n",
       "    }\n",
       "\n",
       "    .dataframe thead th {\n",
       "        text-align: right;\n",
       "    }\n",
       "</style>\n",
       "<table border=\"1\" class=\"dataframe\">\n",
       "  <thead>\n",
       "    <tr style=\"text-align: right;\">\n",
       "      <th></th>\n",
       "      <th>A</th>\n",
       "      <th>B</th>\n",
       "      <th>C</th>\n",
       "      <th>D</th>\n",
       "      <th>E</th>\n",
       "    </tr>\n",
       "  </thead>\n",
       "  <tbody>\n",
       "    <tr>\n",
       "      <th>0</th>\n",
       "      <td>0.0</td>\n",
       "      <td>a</td>\n",
       "      <td>1.0</td>\n",
       "      <td>NaN</td>\n",
       "      <td>[a, 7]</td>\n",
       "    </tr>\n",
       "    <tr>\n",
       "      <th>1</th>\n",
       "      <td>1.0</td>\n",
       "      <td>b</td>\n",
       "      <td>NaN</td>\n",
       "      <td>NaN</td>\n",
       "      <td>None</td>\n",
       "    </tr>\n",
       "    <tr>\n",
       "      <th>2</th>\n",
       "      <td>2.0</td>\n",
       "      <td>c</td>\n",
       "      <td>1.2</td>\n",
       "      <td>NaN</td>\n",
       "      <td>77</td>\n",
       "    </tr>\n",
       "    <tr>\n",
       "      <th>3</th>\n",
       "      <td>3.0</td>\n",
       "      <td>d</td>\n",
       "      <td>1.3</td>\n",
       "      <td>NaN</td>\n",
       "      <td>this column is object type</td>\n",
       "    </tr>\n",
       "    <tr>\n",
       "      <th>4</th>\n",
       "      <td>NaN</td>\n",
       "      <td>e</td>\n",
       "      <td>1.4</td>\n",
       "      <td>NaN</td>\n",
       "      <td>0.99</td>\n",
       "    </tr>\n",
       "  </tbody>\n",
       "</table>\n",
       "</div>"
      ],
      "text/plain": [
       "     A  B    C   D                           E\n",
       "0  0.0  a  1.0 NaN                      [a, 7]\n",
       "1  1.0  b  NaN NaN                        None\n",
       "2  2.0  c  1.2 NaN                          77\n",
       "3  3.0  d  1.3 NaN  this column is object type\n",
       "4  NaN  e  1.4 NaN                        0.99"
      ]
     },
     "execution_count": 121,
     "metadata": {},
     "output_type": "execute_result"
    }
   ],
   "source": [
    "# DataFrame from dictionary\n",
    "a_dict = {'A' : [0, 1, 2, 3, np.NaN],\n",
    "          'B' : ['a', 'b', 'c', 'd', 'e'],\n",
    "          'C' : [1.0, None, 1.2, 1.3, 1.4],\n",
    "          'D' : [np.nan, np.nan, np.nan, np.nan, np.nan],\n",
    "          'E' : [['a', 7], None, 77 , 'this column is object type', 0.99]\n",
    "         }\n",
    "\n",
    "# Create DataFrame\n",
    "df = pd.DataFrame(a_dict)\n",
    "df"
   ]
  },
  {
   "cell_type": "code",
   "execution_count": 120,
   "metadata": {},
   "outputs": [],
   "source": [
    "# !! Carefully check the 'None' values in columns C and E.\n",
    "# They are converted differently. \n",
    "# This is because of the dtypes of the columns."
   ]
  },
  {
   "cell_type": "code",
   "execution_count": 119,
   "metadata": {},
   "outputs": [
    {
     "name": "stdout",
     "output_type": "stream",
     "text": [
      "<class 'pandas.core.frame.DataFrame'>\n",
      "RangeIndex: 5 entries, 0 to 4\n",
      "Data columns (total 5 columns):\n",
      " #   Column  Non-Null Count  Dtype  \n",
      "---  ------  --------------  -----  \n",
      " 0   A       4 non-null      float64\n",
      " 1   B       5 non-null      object \n",
      " 2   C       4 non-null      float64\n",
      " 3   D       0 non-null      float64\n",
      " 4   E       4 non-null      object \n",
      "dtypes: float64(3), object(2)\n",
      "memory usage: 328.0+ bytes\n"
     ]
    }
   ],
   "source": [
    "df.info()"
   ]
  },
  {
   "cell_type": "code",
   "execution_count": 122,
   "metadata": {},
   "outputs": [
    {
     "data": {
      "text/html": [
       "<div>\n",
       "<style scoped>\n",
       "    .dataframe tbody tr th:only-of-type {\n",
       "        vertical-align: middle;\n",
       "    }\n",
       "\n",
       "    .dataframe tbody tr th {\n",
       "        vertical-align: top;\n",
       "    }\n",
       "\n",
       "    .dataframe thead th {\n",
       "        text-align: right;\n",
       "    }\n",
       "</style>\n",
       "<table border=\"1\" class=\"dataframe\">\n",
       "  <thead>\n",
       "    <tr style=\"text-align: right;\">\n",
       "      <th></th>\n",
       "      <th>A</th>\n",
       "      <th>B</th>\n",
       "      <th>C</th>\n",
       "      <th>D</th>\n",
       "      <th>E</th>\n",
       "    </tr>\n",
       "  </thead>\n",
       "  <tbody>\n",
       "    <tr>\n",
       "      <th>4</th>\n",
       "      <td>NaN</td>\n",
       "      <td>e</td>\n",
       "      <td>1.4</td>\n",
       "      <td>NaN</td>\n",
       "      <td>0.99</td>\n",
       "    </tr>\n",
       "    <tr>\n",
       "      <th>2</th>\n",
       "      <td>2.0</td>\n",
       "      <td>c</td>\n",
       "      <td>1.2</td>\n",
       "      <td>NaN</td>\n",
       "      <td>77</td>\n",
       "    </tr>\n",
       "    <tr>\n",
       "      <th>0</th>\n",
       "      <td>0.0</td>\n",
       "      <td>a</td>\n",
       "      <td>1.0</td>\n",
       "      <td>NaN</td>\n",
       "      <td>[a, 7]</td>\n",
       "    </tr>\n",
       "  </tbody>\n",
       "</table>\n",
       "</div>"
      ],
      "text/plain": [
       "     A  B    C   D       E\n",
       "4  NaN  e  1.4 NaN    0.99\n",
       "2  2.0  c  1.2 NaN      77\n",
       "0  0.0  a  1.0 NaN  [a, 7]"
      ]
     },
     "execution_count": 122,
     "metadata": {},
     "output_type": "execute_result"
    }
   ],
   "source": [
    "df.sample(3)"
   ]
  },
  {
   "cell_type": "code",
   "execution_count": 123,
   "metadata": {},
   "outputs": [
    {
     "data": {
      "text/plain": [
       "4    1.4\n",
       "3    1.3\n",
       "2    1.2\n",
       "0    1.0\n",
       "Name: C, dtype: float64"
      ]
     },
     "execution_count": 123,
     "metadata": {},
     "output_type": "execute_result"
    }
   ],
   "source": [
    "df.C.nlargest()"
   ]
  },
  {
   "cell_type": "code",
   "execution_count": 124,
   "metadata": {
    "scrolled": true
   },
   "outputs": [
    {
     "data": {
      "text/plain": [
       "0    1.0\n",
       "2    1.2\n",
       "Name: C, dtype: float64"
      ]
     },
     "execution_count": 124,
     "metadata": {},
     "output_type": "execute_result"
    }
   ],
   "source": [
    "df.C.nsmallest(2)"
   ]
  },
  {
   "cell_type": "code",
   "execution_count": 127,
   "metadata": {},
   "outputs": [
    {
     "data": {
      "text/plain": [
       "0    1.0\n",
       "1    NaN\n",
       "2    2.2\n",
       "3    3.5\n",
       "4    4.9\n",
       "Name: C, dtype: float64"
      ]
     },
     "execution_count": 127,
     "metadata": {},
     "output_type": "execute_result"
    }
   ],
   "source": [
    "df.C.cumsum()"
   ]
  },
  {
   "cell_type": "code",
   "execution_count": 128,
   "metadata": {},
   "outputs": [
    {
     "data": {
      "text/plain": [
       "Index(['A', 'B', 'C', 'D', 'E'], dtype='object')"
      ]
     },
     "execution_count": 128,
     "metadata": {},
     "output_type": "execute_result"
    }
   ],
   "source": [
    "df.columns"
   ]
  },
  {
   "cell_type": "code",
   "execution_count": 129,
   "metadata": {},
   "outputs": [
    {
     "data": {
      "text/html": [
       "<div>\n",
       "<style scoped>\n",
       "    .dataframe tbody tr th:only-of-type {\n",
       "        vertical-align: middle;\n",
       "    }\n",
       "\n",
       "    .dataframe tbody tr th {\n",
       "        vertical-align: top;\n",
       "    }\n",
       "\n",
       "    .dataframe thead th {\n",
       "        text-align: right;\n",
       "    }\n",
       "</style>\n",
       "<table border=\"1\" class=\"dataframe\">\n",
       "  <thead>\n",
       "    <tr style=\"text-align: right;\">\n",
       "      <th></th>\n",
       "      <th>B</th>\n",
       "      <th>D</th>\n",
       "    </tr>\n",
       "  </thead>\n",
       "  <tbody>\n",
       "    <tr>\n",
       "      <th>0</th>\n",
       "      <td>a</td>\n",
       "      <td>NaN</td>\n",
       "    </tr>\n",
       "    <tr>\n",
       "      <th>3</th>\n",
       "      <td>d</td>\n",
       "      <td>NaN</td>\n",
       "    </tr>\n",
       "  </tbody>\n",
       "</table>\n",
       "</div>"
      ],
      "text/plain": [
       "   B   D\n",
       "0  a NaN\n",
       "3  d NaN"
      ]
     },
     "execution_count": 129,
     "metadata": {},
     "output_type": "execute_result"
    }
   ],
   "source": [
    "df.loc[[0, 3], ['B', 'D']]"
   ]
  },
  {
   "cell_type": "code",
   "execution_count": 130,
   "metadata": {},
   "outputs": [
    {
     "data": {
      "text/html": [
       "<div>\n",
       "<style scoped>\n",
       "    .dataframe tbody tr th:only-of-type {\n",
       "        vertical-align: middle;\n",
       "    }\n",
       "\n",
       "    .dataframe tbody tr th {\n",
       "        vertical-align: top;\n",
       "    }\n",
       "\n",
       "    .dataframe thead th {\n",
       "        text-align: right;\n",
       "    }\n",
       "</style>\n",
       "<table border=\"1\" class=\"dataframe\">\n",
       "  <thead>\n",
       "    <tr style=\"text-align: right;\">\n",
       "      <th></th>\n",
       "      <th>B</th>\n",
       "      <th>C</th>\n",
       "      <th>D</th>\n",
       "    </tr>\n",
       "  </thead>\n",
       "  <tbody>\n",
       "    <tr>\n",
       "      <th>2</th>\n",
       "      <td>c</td>\n",
       "      <td>1.2</td>\n",
       "      <td>NaN</td>\n",
       "    </tr>\n",
       "    <tr>\n",
       "      <th>3</th>\n",
       "      <td>d</td>\n",
       "      <td>1.3</td>\n",
       "      <td>NaN</td>\n",
       "    </tr>\n",
       "    <tr>\n",
       "      <th>4</th>\n",
       "      <td>e</td>\n",
       "      <td>1.4</td>\n",
       "      <td>NaN</td>\n",
       "    </tr>\n",
       "  </tbody>\n",
       "</table>\n",
       "</div>"
      ],
      "text/plain": [
       "   B    C   D\n",
       "2  c  1.2 NaN\n",
       "3  d  1.3 NaN\n",
       "4  e  1.4 NaN"
      ]
     },
     "execution_count": 130,
     "metadata": {},
     "output_type": "execute_result"
    }
   ],
   "source": [
    "df.iloc[2:5, 1:4]"
   ]
  },
  {
   "cell_type": "code",
   "execution_count": 131,
   "metadata": {},
   "outputs": [
    {
     "data": {
      "text/html": [
       "<div>\n",
       "<style scoped>\n",
       "    .dataframe tbody tr th:only-of-type {\n",
       "        vertical-align: middle;\n",
       "    }\n",
       "\n",
       "    .dataframe tbody tr th {\n",
       "        vertical-align: top;\n",
       "    }\n",
       "\n",
       "    .dataframe thead th {\n",
       "        text-align: right;\n",
       "    }\n",
       "</style>\n",
       "<table border=\"1\" class=\"dataframe\">\n",
       "  <thead>\n",
       "    <tr style=\"text-align: right;\">\n",
       "      <th></th>\n",
       "      <th>A</th>\n",
       "      <th>B</th>\n",
       "      <th>C</th>\n",
       "      <th>D</th>\n",
       "      <th>E</th>\n",
       "    </tr>\n",
       "  </thead>\n",
       "  <tbody>\n",
       "  </tbody>\n",
       "</table>\n",
       "</div>"
      ],
      "text/plain": [
       "Empty DataFrame\n",
       "Columns: [A, B, C, D, E]\n",
       "Index: []"
      ]
     },
     "execution_count": 131,
     "metadata": {},
     "output_type": "execute_result"
    }
   ],
   "source": [
    "# Drop all rows with missing values\n",
    "df2 = df.dropna()\n",
    "df2"
   ]
  },
  {
   "cell_type": "code",
   "execution_count": 132,
   "metadata": {},
   "outputs": [
    {
     "data": {
      "text/html": [
       "<div>\n",
       "<style scoped>\n",
       "    .dataframe tbody tr th:only-of-type {\n",
       "        vertical-align: middle;\n",
       "    }\n",
       "\n",
       "    .dataframe tbody tr th {\n",
       "        vertical-align: top;\n",
       "    }\n",
       "\n",
       "    .dataframe thead th {\n",
       "        text-align: right;\n",
       "    }\n",
       "</style>\n",
       "<table border=\"1\" class=\"dataframe\">\n",
       "  <thead>\n",
       "    <tr style=\"text-align: right;\">\n",
       "      <th></th>\n",
       "      <th>B</th>\n",
       "    </tr>\n",
       "  </thead>\n",
       "  <tbody>\n",
       "    <tr>\n",
       "      <th>0</th>\n",
       "      <td>a</td>\n",
       "    </tr>\n",
       "    <tr>\n",
       "      <th>1</th>\n",
       "      <td>b</td>\n",
       "    </tr>\n",
       "    <tr>\n",
       "      <th>2</th>\n",
       "      <td>c</td>\n",
       "    </tr>\n",
       "    <tr>\n",
       "      <th>3</th>\n",
       "      <td>d</td>\n",
       "    </tr>\n",
       "    <tr>\n",
       "      <th>4</th>\n",
       "      <td>e</td>\n",
       "    </tr>\n",
       "  </tbody>\n",
       "</table>\n",
       "</div>"
      ],
      "text/plain": [
       "   B\n",
       "0  a\n",
       "1  b\n",
       "2  c\n",
       "3  d\n",
       "4  e"
      ]
     },
     "execution_count": 132,
     "metadata": {},
     "output_type": "execute_result"
    }
   ],
   "source": [
    "# Drop all rows with missing values\n",
    "df2 = df.dropna(axis=1)\n",
    "df2"
   ]
  },
  {
   "cell_type": "code",
   "execution_count": 135,
   "metadata": {},
   "outputs": [
    {
     "data": {
      "text/html": [
       "<div>\n",
       "<style scoped>\n",
       "    .dataframe tbody tr th:only-of-type {\n",
       "        vertical-align: middle;\n",
       "    }\n",
       "\n",
       "    .dataframe tbody tr th {\n",
       "        vertical-align: top;\n",
       "    }\n",
       "\n",
       "    .dataframe thead th {\n",
       "        text-align: right;\n",
       "    }\n",
       "</style>\n",
       "<table border=\"1\" class=\"dataframe\">\n",
       "  <thead>\n",
       "    <tr style=\"text-align: right;\">\n",
       "      <th></th>\n",
       "      <th>A</th>\n",
       "      <th>B</th>\n",
       "      <th>C</th>\n",
       "      <th>D</th>\n",
       "      <th>E</th>\n",
       "    </tr>\n",
       "  </thead>\n",
       "  <tbody>\n",
       "    <tr>\n",
       "      <th>0</th>\n",
       "      <td>0.0</td>\n",
       "      <td>a</td>\n",
       "      <td>1.0</td>\n",
       "      <td>999.0</td>\n",
       "      <td>[a, 7]</td>\n",
       "    </tr>\n",
       "    <tr>\n",
       "      <th>1</th>\n",
       "      <td>1.0</td>\n",
       "      <td>b</td>\n",
       "      <td>999.0</td>\n",
       "      <td>999.0</td>\n",
       "      <td>999</td>\n",
       "    </tr>\n",
       "    <tr>\n",
       "      <th>2</th>\n",
       "      <td>2.0</td>\n",
       "      <td>c</td>\n",
       "      <td>1.2</td>\n",
       "      <td>999.0</td>\n",
       "      <td>77</td>\n",
       "    </tr>\n",
       "    <tr>\n",
       "      <th>3</th>\n",
       "      <td>3.0</td>\n",
       "      <td>d</td>\n",
       "      <td>1.3</td>\n",
       "      <td>999.0</td>\n",
       "      <td>this column is object type</td>\n",
       "    </tr>\n",
       "    <tr>\n",
       "      <th>4</th>\n",
       "      <td>999.0</td>\n",
       "      <td>e</td>\n",
       "      <td>1.4</td>\n",
       "      <td>999.0</td>\n",
       "      <td>0.99</td>\n",
       "    </tr>\n",
       "  </tbody>\n",
       "</table>\n",
       "</div>"
      ],
      "text/plain": [
       "       A  B      C      D                           E\n",
       "0    0.0  a    1.0  999.0                      [a, 7]\n",
       "1    1.0  b  999.0  999.0                         999\n",
       "2    2.0  c    1.2  999.0                          77\n",
       "3    3.0  d    1.3  999.0  this column is object type\n",
       "4  999.0  e    1.4  999.0                        0.99"
      ]
     },
     "execution_count": 135,
     "metadata": {},
     "output_type": "execute_result"
    }
   ],
   "source": [
    "# Fill missing values with a constant value of zero\n",
    "df4 = df.fillna(999)\n",
    "df4"
   ]
  },
  {
   "cell_type": "code",
   "execution_count": 136,
   "metadata": {},
   "outputs": [
    {
     "data": {
      "text/html": [
       "<div>\n",
       "<style scoped>\n",
       "    .dataframe tbody tr th:only-of-type {\n",
       "        vertical-align: middle;\n",
       "    }\n",
       "\n",
       "    .dataframe tbody tr th {\n",
       "        vertical-align: top;\n",
       "    }\n",
       "\n",
       "    .dataframe thead th {\n",
       "        text-align: right;\n",
       "    }\n",
       "</style>\n",
       "<table border=\"1\" class=\"dataframe\">\n",
       "  <thead>\n",
       "    <tr style=\"text-align: right;\">\n",
       "      <th></th>\n",
       "      <th>A</th>\n",
       "      <th>B</th>\n",
       "      <th>C</th>\n",
       "      <th>D</th>\n",
       "      <th>E</th>\n",
       "    </tr>\n",
       "  </thead>\n",
       "  <tbody>\n",
       "    <tr>\n",
       "      <th>0</th>\n",
       "      <td>0.0</td>\n",
       "      <td>a</td>\n",
       "      <td>1.000</td>\n",
       "      <td>NaN</td>\n",
       "      <td>[a, 7]</td>\n",
       "    </tr>\n",
       "    <tr>\n",
       "      <th>1</th>\n",
       "      <td>1.0</td>\n",
       "      <td>b</td>\n",
       "      <td>1.225</td>\n",
       "      <td>NaN</td>\n",
       "      <td>None</td>\n",
       "    </tr>\n",
       "    <tr>\n",
       "      <th>2</th>\n",
       "      <td>2.0</td>\n",
       "      <td>c</td>\n",
       "      <td>1.200</td>\n",
       "      <td>NaN</td>\n",
       "      <td>77</td>\n",
       "    </tr>\n",
       "    <tr>\n",
       "      <th>3</th>\n",
       "      <td>3.0</td>\n",
       "      <td>d</td>\n",
       "      <td>1.300</td>\n",
       "      <td>NaN</td>\n",
       "      <td>this column is object type</td>\n",
       "    </tr>\n",
       "    <tr>\n",
       "      <th>4</th>\n",
       "      <td>1.5</td>\n",
       "      <td>e</td>\n",
       "      <td>1.400</td>\n",
       "      <td>NaN</td>\n",
       "      <td>0.99</td>\n",
       "    </tr>\n",
       "  </tbody>\n",
       "</table>\n",
       "</div>"
      ],
      "text/plain": [
       "     A  B      C   D                           E\n",
       "0  0.0  a  1.000 NaN                      [a, 7]\n",
       "1  1.0  b  1.225 NaN                        None\n",
       "2  2.0  c  1.200 NaN                          77\n",
       "3  3.0  d  1.300 NaN  this column is object type\n",
       "4  1.5  e  1.400 NaN                        0.99"
      ]
     },
     "execution_count": 136,
     "metadata": {},
     "output_type": "execute_result"
    }
   ],
   "source": [
    "# Fill missing values with the mean value for the respective column\n",
    "df5 = df.fillna(df.mean())\n",
    "df5"
   ]
  },
  {
   "cell_type": "code",
   "execution_count": 138,
   "metadata": {},
   "outputs": [
    {
     "data": {
      "text/html": [
       "<div>\n",
       "<style scoped>\n",
       "    .dataframe tbody tr th:only-of-type {\n",
       "        vertical-align: middle;\n",
       "    }\n",
       "\n",
       "    .dataframe tbody tr th {\n",
       "        vertical-align: top;\n",
       "    }\n",
       "\n",
       "    .dataframe thead th {\n",
       "        text-align: right;\n",
       "    }\n",
       "</style>\n",
       "<table border=\"1\" class=\"dataframe\">\n",
       "  <thead>\n",
       "    <tr style=\"text-align: right;\">\n",
       "      <th></th>\n",
       "      <th>0</th>\n",
       "      <th>1</th>\n",
       "      <th>2</th>\n",
       "      <th>3</th>\n",
       "      <th>4</th>\n",
       "    </tr>\n",
       "  </thead>\n",
       "  <tbody>\n",
       "    <tr>\n",
       "      <th>A</th>\n",
       "      <td>0</td>\n",
       "      <td>1</td>\n",
       "      <td>2</td>\n",
       "      <td>3</td>\n",
       "      <td>NaN</td>\n",
       "    </tr>\n",
       "    <tr>\n",
       "      <th>B</th>\n",
       "      <td>a</td>\n",
       "      <td>b</td>\n",
       "      <td>c</td>\n",
       "      <td>d</td>\n",
       "      <td>e</td>\n",
       "    </tr>\n",
       "    <tr>\n",
       "      <th>C</th>\n",
       "      <td>1</td>\n",
       "      <td>NaN</td>\n",
       "      <td>1.2</td>\n",
       "      <td>1.3</td>\n",
       "      <td>1.4</td>\n",
       "    </tr>\n",
       "    <tr>\n",
       "      <th>D</th>\n",
       "      <td>NaN</td>\n",
       "      <td>NaN</td>\n",
       "      <td>NaN</td>\n",
       "      <td>NaN</td>\n",
       "      <td>NaN</td>\n",
       "    </tr>\n",
       "    <tr>\n",
       "      <th>E</th>\n",
       "      <td>[a, 7]</td>\n",
       "      <td>None</td>\n",
       "      <td>77</td>\n",
       "      <td>this column is object type</td>\n",
       "      <td>0.99</td>\n",
       "    </tr>\n",
       "  </tbody>\n",
       "</table>\n",
       "</div>"
      ],
      "text/plain": [
       "        0     1    2                           3     4\n",
       "A       0     1    2                           3   NaN\n",
       "B       a     b    c                           d     e\n",
       "C       1   NaN  1.2                         1.3   1.4\n",
       "D     NaN   NaN  NaN                         NaN   NaN\n",
       "E  [a, 7]  None   77  this column is object type  0.99"
      ]
     },
     "execution_count": 138,
     "metadata": {},
     "output_type": "execute_result"
    }
   ],
   "source": [
    "# transposing the DataFrame\n",
    "df.T"
   ]
  },
  {
   "cell_type": "markdown",
   "metadata": {},
   "source": [
    "----\n",
    "<a href='#toc'>Back to ToC</a>"
   ]
  },
  {
   "cell_type": "markdown",
   "metadata": {},
   "source": [
    "<a id='readwrite'></a>\n",
    "### Reading / Writing Files"
   ]
  },
  {
   "cell_type": "markdown",
   "metadata": {},
   "source": [
    "#### Info about Pickle\n",
    "\n",
    "Saving and reading data\n",
    "while reading or writing to a csv or an excel file, data types are not preserved.\n",
    "If we want to preserve the data types, we can use pickle for saving or reading files!"
   ]
  },
  {
   "cell_type": "code",
   "execution_count": 150,
   "metadata": {},
   "outputs": [],
   "source": [
    "# writing to a file\n",
    "temp_file = 'temp.txt'\n",
    "\n",
    "with open(temp_file, 'w') as to_write:\n",
    "    to_write.write('First Line.\\n')\n",
    "    to_write.write('Second Line.')"
   ]
  },
  {
   "cell_type": "code",
   "execution_count": 153,
   "metadata": {},
   "outputs": [
    {
     "name": "stdout",
     "output_type": "stream",
     "text": [
      "First Line.\n",
      "Second Line."
     ]
    }
   ],
   "source": [
    "# reading a file\n",
    "with open(temp_file, 'r') as file:\n",
    "    for line in file:\n",
    "        print(line, end=\"\")"
   ]
  },
  {
   "cell_type": "code",
   "execution_count": 146,
   "metadata": {},
   "outputs": [
    {
     "name": "stdout",
     "output_type": "stream",
     "text": [
      "['First Line.\\n', 'Second Line.']\n"
     ]
    }
   ],
   "source": [
    "# reading a file\n",
    "with open(temp_file, 'r') as file:\n",
    "    lines = file.readlines()\n",
    "    print(lines)"
   ]
  },
  {
   "cell_type": "code",
   "execution_count": 154,
   "metadata": {},
   "outputs": [
    {
     "data": {
      "text/html": [
       "<div>\n",
       "<style scoped>\n",
       "    .dataframe tbody tr th:only-of-type {\n",
       "        vertical-align: middle;\n",
       "    }\n",
       "\n",
       "    .dataframe tbody tr th {\n",
       "        vertical-align: top;\n",
       "    }\n",
       "\n",
       "    .dataframe thead th {\n",
       "        text-align: right;\n",
       "    }\n",
       "</style>\n",
       "<table border=\"1\" class=\"dataframe\">\n",
       "  <thead>\n",
       "    <tr style=\"text-align: right;\">\n",
       "      <th></th>\n",
       "      <th>A</th>\n",
       "      <th>B</th>\n",
       "      <th>C</th>\n",
       "      <th>D</th>\n",
       "      <th>E</th>\n",
       "    </tr>\n",
       "  </thead>\n",
       "  <tbody>\n",
       "    <tr>\n",
       "      <th>0</th>\n",
       "      <td>0.0</td>\n",
       "      <td>a</td>\n",
       "      <td>1.0</td>\n",
       "      <td>NaN</td>\n",
       "      <td>[a, 7]</td>\n",
       "    </tr>\n",
       "    <tr>\n",
       "      <th>1</th>\n",
       "      <td>1.0</td>\n",
       "      <td>b</td>\n",
       "      <td>NaN</td>\n",
       "      <td>NaN</td>\n",
       "      <td>None</td>\n",
       "    </tr>\n",
       "    <tr>\n",
       "      <th>2</th>\n",
       "      <td>2.0</td>\n",
       "      <td>c</td>\n",
       "      <td>1.2</td>\n",
       "      <td>NaN</td>\n",
       "      <td>77</td>\n",
       "    </tr>\n",
       "    <tr>\n",
       "      <th>3</th>\n",
       "      <td>3.0</td>\n",
       "      <td>d</td>\n",
       "      <td>1.3</td>\n",
       "      <td>NaN</td>\n",
       "      <td>this column is object type</td>\n",
       "    </tr>\n",
       "    <tr>\n",
       "      <th>4</th>\n",
       "      <td>NaN</td>\n",
       "      <td>e</td>\n",
       "      <td>1.4</td>\n",
       "      <td>NaN</td>\n",
       "      <td>0.99</td>\n",
       "    </tr>\n",
       "  </tbody>\n",
       "</table>\n",
       "</div>"
      ],
      "text/plain": [
       "     A  B    C   D                           E\n",
       "0  0.0  a  1.0 NaN                      [a, 7]\n",
       "1  1.0  b  NaN NaN                        None\n",
       "2  2.0  c  1.2 NaN                          77\n",
       "3  3.0  d  1.3 NaN  this column is object type\n",
       "4  NaN  e  1.4 NaN                        0.99"
      ]
     },
     "execution_count": 154,
     "metadata": {},
     "output_type": "execute_result"
    }
   ],
   "source": [
    "df"
   ]
  },
  {
   "cell_type": "code",
   "execution_count": 155,
   "metadata": {},
   "outputs": [],
   "source": [
    "import pickle\n",
    "\n",
    "pk = 'test.pk'\n",
    "\n",
    "with open(pk, 'wb') as pickle_write:\n",
    "    pickle.dump(df, pickle_write)"
   ]
  },
  {
   "cell_type": "code",
   "execution_count": 157,
   "metadata": {},
   "outputs": [
    {
     "data": {
      "text/html": [
       "<div>\n",
       "<style scoped>\n",
       "    .dataframe tbody tr th:only-of-type {\n",
       "        vertical-align: middle;\n",
       "    }\n",
       "\n",
       "    .dataframe tbody tr th {\n",
       "        vertical-align: top;\n",
       "    }\n",
       "\n",
       "    .dataframe thead th {\n",
       "        text-align: right;\n",
       "    }\n",
       "</style>\n",
       "<table border=\"1\" class=\"dataframe\">\n",
       "  <thead>\n",
       "    <tr style=\"text-align: right;\">\n",
       "      <th></th>\n",
       "      <th>A</th>\n",
       "      <th>B</th>\n",
       "      <th>C</th>\n",
       "      <th>D</th>\n",
       "      <th>E</th>\n",
       "    </tr>\n",
       "  </thead>\n",
       "  <tbody>\n",
       "    <tr>\n",
       "      <th>0</th>\n",
       "      <td>0.0</td>\n",
       "      <td>a</td>\n",
       "      <td>1.0</td>\n",
       "      <td>NaN</td>\n",
       "      <td>[a, 7]</td>\n",
       "    </tr>\n",
       "    <tr>\n",
       "      <th>1</th>\n",
       "      <td>1.0</td>\n",
       "      <td>b</td>\n",
       "      <td>NaN</td>\n",
       "      <td>NaN</td>\n",
       "      <td>None</td>\n",
       "    </tr>\n",
       "    <tr>\n",
       "      <th>2</th>\n",
       "      <td>2.0</td>\n",
       "      <td>c</td>\n",
       "      <td>1.2</td>\n",
       "      <td>NaN</td>\n",
       "      <td>77</td>\n",
       "    </tr>\n",
       "    <tr>\n",
       "      <th>3</th>\n",
       "      <td>3.0</td>\n",
       "      <td>d</td>\n",
       "      <td>1.3</td>\n",
       "      <td>NaN</td>\n",
       "      <td>this column is object type</td>\n",
       "    </tr>\n",
       "    <tr>\n",
       "      <th>4</th>\n",
       "      <td>NaN</td>\n",
       "      <td>e</td>\n",
       "      <td>1.4</td>\n",
       "      <td>NaN</td>\n",
       "      <td>0.99</td>\n",
       "    </tr>\n",
       "  </tbody>\n",
       "</table>\n",
       "</div>"
      ],
      "text/plain": [
       "     A  B    C   D                           E\n",
       "0  0.0  a  1.0 NaN                      [a, 7]\n",
       "1  1.0  b  NaN NaN                        None\n",
       "2  2.0  c  1.2 NaN                          77\n",
       "3  3.0  d  1.3 NaN  this column is object type\n",
       "4  NaN  e  1.4 NaN                        0.99"
      ]
     },
     "execution_count": 157,
     "metadata": {},
     "output_type": "execute_result"
    }
   ],
   "source": [
    "with open(pk, 'rb') as read_pickle:\n",
    "    df_pk = pickle.load(read_pickle)\n",
    "\n",
    "df_pk"
   ]
  },
  {
   "cell_type": "code",
   "execution_count": 158,
   "metadata": {},
   "outputs": [
    {
     "data": {
      "text/html": [
       "<div>\n",
       "<style scoped>\n",
       "    .dataframe tbody tr th:only-of-type {\n",
       "        vertical-align: middle;\n",
       "    }\n",
       "\n",
       "    .dataframe tbody tr th {\n",
       "        vertical-align: top;\n",
       "    }\n",
       "\n",
       "    .dataframe thead th {\n",
       "        text-align: right;\n",
       "    }\n",
       "</style>\n",
       "<table border=\"1\" class=\"dataframe\">\n",
       "  <thead>\n",
       "    <tr style=\"text-align: right;\">\n",
       "      <th></th>\n",
       "      <th>A</th>\n",
       "      <th>B</th>\n",
       "      <th>C</th>\n",
       "      <th>D</th>\n",
       "      <th>E</th>\n",
       "    </tr>\n",
       "  </thead>\n",
       "  <tbody>\n",
       "    <tr>\n",
       "      <th>0</th>\n",
       "      <td>0.0</td>\n",
       "      <td>a</td>\n",
       "      <td>1.0</td>\n",
       "      <td>NaN</td>\n",
       "      <td>[a, 7]</td>\n",
       "    </tr>\n",
       "    <tr>\n",
       "      <th>1</th>\n",
       "      <td>1.0</td>\n",
       "      <td>b</td>\n",
       "      <td>NaN</td>\n",
       "      <td>NaN</td>\n",
       "      <td>None</td>\n",
       "    </tr>\n",
       "    <tr>\n",
       "      <th>2</th>\n",
       "      <td>2.0</td>\n",
       "      <td>c</td>\n",
       "      <td>1.2</td>\n",
       "      <td>NaN</td>\n",
       "      <td>77</td>\n",
       "    </tr>\n",
       "    <tr>\n",
       "      <th>3</th>\n",
       "      <td>3.0</td>\n",
       "      <td>d</td>\n",
       "      <td>1.3</td>\n",
       "      <td>NaN</td>\n",
       "      <td>this column is object type</td>\n",
       "    </tr>\n",
       "    <tr>\n",
       "      <th>4</th>\n",
       "      <td>NaN</td>\n",
       "      <td>e</td>\n",
       "      <td>1.4</td>\n",
       "      <td>NaN</td>\n",
       "      <td>0.99</td>\n",
       "    </tr>\n",
       "  </tbody>\n",
       "</table>\n",
       "</div>"
      ],
      "text/plain": [
       "     A  B    C   D                           E\n",
       "0  0.0  a  1.0 NaN                      [a, 7]\n",
       "1  1.0  b  NaN NaN                        None\n",
       "2  2.0  c  1.2 NaN                          77\n",
       "3  3.0  d  1.3 NaN  this column is object type\n",
       "4  NaN  e  1.4 NaN                        0.99"
      ]
     },
     "execution_count": 158,
     "metadata": {},
     "output_type": "execute_result"
    }
   ],
   "source": [
    "df.to_pickle('test2.pk')\n",
    "\n",
    "df_pk2 = pd.read_pickle('test2.pk')\n",
    "df_pk2"
   ]
  },
  {
   "cell_type": "markdown",
   "metadata": {},
   "source": [
    "----\n",
    "<a href='#toc'>Back to ToC</a>"
   ]
  }
 ],
 "metadata": {
  "kernelspec": {
   "display_name": "Python 3",
   "language": "python",
   "name": "python3"
  },
  "language_info": {
   "codemirror_mode": {
    "name": "ipython",
    "version": 3
   },
   "file_extension": ".py",
   "mimetype": "text/x-python",
   "name": "python",
   "nbconvert_exporter": "python",
   "pygments_lexer": "ipython3",
   "version": "3.8.5"
  }
 },
 "nbformat": 4,
 "nbformat_minor": 4
}
