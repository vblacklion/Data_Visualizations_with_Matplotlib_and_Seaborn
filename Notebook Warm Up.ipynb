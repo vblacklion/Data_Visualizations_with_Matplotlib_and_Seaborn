{
 "cells": [
  {
   "cell_type": "markdown",
   "metadata": {},
   "source": [
    "### Here I provide some good to know features and examples for a quick warm up"
   ]
  },
  {
   "cell_type": "markdown",
   "metadata": {},
   "source": [
    "- Enter : Edit Mode, makes the cursor active and goes in the selected cell.\n",
    "- Esc : Command Mode, deactivates the cursor and text editing.\n",
    "- Esc + y : Change to Code\n",
    "- Esc + m : Change to Markdown\n",
    "- Esc + b : Insert new cell below\n",
    "- Esc + a : Insert new cell above\n",
    "- Esc + dd : Delete the cell"
   ]
  },
  {
   "cell_type": "code",
   "execution_count": 2,
   "metadata": {},
   "outputs": [
    {
     "name": "stdout",
     "output_type": "stream",
     "text": [
      "Ctrl + Enter: Just runs the cell.\n"
     ]
    }
   ],
   "source": [
    "print(\"Ctrl + Enter:\", \"Just runs the cell.\")"
   ]
  },
  {
   "cell_type": "code",
   "execution_count": 4,
   "metadata": {},
   "outputs": [
    {
     "name": "stdout",
     "output_type": "stream",
     "text": [
      "Alt + Enter: Runs the cell and insert a new cell below.\n"
     ]
    }
   ],
   "source": [
    "print(\"Alt + Enter:\", \"Runs the cell and insert a new cell below.\")"
   ]
  },
  {
   "cell_type": "code",
   "execution_count": null,
   "metadata": {},
   "outputs": [],
   "source": []
  },
  {
   "cell_type": "code",
   "execution_count": 7,
   "metadata": {},
   "outputs": [
    {
     "name": "stdout",
     "output_type": "stream",
     "text": [
      "Shift + Enter: Runs the cell and goes to the next cell below. If there is no cell below, then inserts a new cell.\n"
     ]
    }
   ],
   "source": [
    "print(\"Shift + Enter:\", \"Runs the cell and goes to the next cell below. If there is no cell below, then inserts a new cell.\")"
   ]
  },
  {
   "cell_type": "markdown",
   "metadata": {},
   "source": [
    "#### Specific Commands: Line and Cell Magics"
   ]
  },
  {
   "cell_type": "markdown",
   "metadata": {},
   "source": [
    "- Line magic : %\n",
    "- Cell magic : %%"
   ]
  },
  {
   "cell_type": "code",
   "execution_count": 1,
   "metadata": {},
   "outputs": [
    {
     "name": "stdout",
     "output_type": "stream",
     "text": [
      "We can see the available Line and Cell Magic commands as follows...\n"
     ]
    }
   ],
   "source": [
    "print(\"We can see the available Line and Cell Magic commands as follows...\")\n",
    "magic_commands = %lsmagic"
   ]
  },
  {
   "cell_type": "code",
   "execution_count": 3,
   "metadata": {},
   "outputs": [
    {
     "data": {
      "application/json": {
       "cell": {
        "!": "OSMagics",
        "HTML": "Other",
        "SVG": "Other",
        "bash": "Other",
        "capture": "ExecutionMagics",
        "cmd": "Other",
        "debug": "ExecutionMagics",
        "file": "Other",
        "html": "DisplayMagics",
        "javascript": "DisplayMagics",
        "js": "DisplayMagics",
        "latex": "DisplayMagics",
        "markdown": "DisplayMagics",
        "perl": "Other",
        "prun": "ExecutionMagics",
        "pypy": "Other",
        "python": "Other",
        "python2": "Other",
        "python3": "Other",
        "ruby": "Other",
        "script": "ScriptMagics",
        "sh": "Other",
        "svg": "DisplayMagics",
        "sx": "OSMagics",
        "system": "OSMagics",
        "time": "ExecutionMagics",
        "timeit": "ExecutionMagics",
        "writefile": "OSMagics"
       },
       "line": {
        "alias": "OSMagics",
        "alias_magic": "BasicMagics",
        "autoawait": "AsyncMagics",
        "autocall": "AutoMagics",
        "automagic": "AutoMagics",
        "autosave": "KernelMagics",
        "bookmark": "OSMagics",
        "cd": "OSMagics",
        "clear": "KernelMagics",
        "cls": "KernelMagics",
        "colors": "BasicMagics",
        "conda": "PackagingMagics",
        "config": "ConfigMagics",
        "connect_info": "KernelMagics",
        "copy": "Other",
        "ddir": "Other",
        "debug": "ExecutionMagics",
        "dhist": "OSMagics",
        "dirs": "OSMagics",
        "doctest_mode": "BasicMagics",
        "echo": "Other",
        "ed": "Other",
        "edit": "KernelMagics",
        "env": "OSMagics",
        "gui": "BasicMagics",
        "hist": "Other",
        "history": "HistoryMagics",
        "killbgscripts": "ScriptMagics",
        "ldir": "Other",
        "less": "KernelMagics",
        "load": "CodeMagics",
        "load_ext": "ExtensionMagics",
        "loadpy": "CodeMagics",
        "logoff": "LoggingMagics",
        "logon": "LoggingMagics",
        "logstart": "LoggingMagics",
        "logstate": "LoggingMagics",
        "logstop": "LoggingMagics",
        "ls": "Other",
        "lsmagic": "BasicMagics",
        "macro": "ExecutionMagics",
        "magic": "BasicMagics",
        "matplotlib": "PylabMagics",
        "mkdir": "Other",
        "more": "KernelMagics",
        "notebook": "BasicMagics",
        "page": "BasicMagics",
        "pastebin": "CodeMagics",
        "pdb": "ExecutionMagics",
        "pdef": "NamespaceMagics",
        "pdoc": "NamespaceMagics",
        "pfile": "NamespaceMagics",
        "pinfo": "NamespaceMagics",
        "pinfo2": "NamespaceMagics",
        "pip": "PackagingMagics",
        "popd": "OSMagics",
        "pprint": "BasicMagics",
        "precision": "BasicMagics",
        "prun": "ExecutionMagics",
        "psearch": "NamespaceMagics",
        "psource": "NamespaceMagics",
        "pushd": "OSMagics",
        "pwd": "OSMagics",
        "pycat": "OSMagics",
        "pylab": "PylabMagics",
        "qtconsole": "KernelMagics",
        "quickref": "BasicMagics",
        "recall": "HistoryMagics",
        "rehashx": "OSMagics",
        "reload_ext": "ExtensionMagics",
        "ren": "Other",
        "rep": "Other",
        "rerun": "HistoryMagics",
        "reset": "NamespaceMagics",
        "reset_selective": "NamespaceMagics",
        "rmdir": "Other",
        "run": "ExecutionMagics",
        "save": "CodeMagics",
        "sc": "OSMagics",
        "set_env": "OSMagics",
        "store": "StoreMagics",
        "sx": "OSMagics",
        "system": "OSMagics",
        "tb": "ExecutionMagics",
        "time": "ExecutionMagics",
        "timeit": "ExecutionMagics",
        "unalias": "OSMagics",
        "unload_ext": "ExtensionMagics",
        "who": "NamespaceMagics",
        "who_ls": "NamespaceMagics",
        "whos": "NamespaceMagics",
        "xdel": "NamespaceMagics",
        "xmode": "BasicMagics"
       }
      },
      "text/plain": [
       "Available line magics:\n",
       "%alias  %alias_magic  %autoawait  %autocall  %automagic  %autosave  %bookmark  %cd  %clear  %cls  %colors  %conda  %config  %connect_info  %copy  %ddir  %debug  %dhist  %dirs  %doctest_mode  %echo  %ed  %edit  %env  %gui  %hist  %history  %killbgscripts  %ldir  %less  %load  %load_ext  %loadpy  %logoff  %logon  %logstart  %logstate  %logstop  %ls  %lsmagic  %macro  %magic  %matplotlib  %mkdir  %more  %notebook  %page  %pastebin  %pdb  %pdef  %pdoc  %pfile  %pinfo  %pinfo2  %pip  %popd  %pprint  %precision  %prun  %psearch  %psource  %pushd  %pwd  %pycat  %pylab  %qtconsole  %quickref  %recall  %rehashx  %reload_ext  %ren  %rep  %rerun  %reset  %reset_selective  %rmdir  %run  %save  %sc  %set_env  %store  %sx  %system  %tb  %time  %timeit  %unalias  %unload_ext  %who  %who_ls  %whos  %xdel  %xmode\n",
       "\n",
       "Available cell magics:\n",
       "%%!  %%HTML  %%SVG  %%bash  %%capture  %%cmd  %%debug  %%file  %%html  %%javascript  %%js  %%latex  %%markdown  %%perl  %%prun  %%pypy  %%python  %%python2  %%python3  %%ruby  %%script  %%sh  %%svg  %%sx  %%system  %%time  %%timeit  %%writefile\n",
       "\n",
       "Automagic is ON, % prefix IS NOT needed for line magics."
      ]
     },
     "execution_count": 3,
     "metadata": {},
     "output_type": "execute_result"
    }
   ],
   "source": [
    "%lsmagic"
   ]
  },
  {
   "cell_type": "code",
   "execution_count": 36,
   "metadata": {},
   "outputs": [
    {
     "data": {
      "text/plain": [
       "IPython.core.magics.basic.MagicsDisplay"
      ]
     },
     "execution_count": 36,
     "metadata": {},
     "output_type": "execute_result"
    }
   ],
   "source": [
    "# Let's see the type of this output.\n",
    "type(magic_commands)"
   ]
  },
  {
   "cell_type": "code",
   "execution_count": 37,
   "metadata": {},
   "outputs": [
    {
     "name": "stdout",
     "output_type": "stream",
     "text": [
      "  1 :  %alias\n",
      "  2 :  %alias_magic\n",
      "  3 :  %autoawait\n",
      "  4 :  %autocall\n",
      "  5 :  %automagic\n",
      "  6 :  %autosave\n",
      "  7 :  %bookmark\n",
      "  8 :  %cd\n",
      "  9 :  %clear\n",
      " 10 :  %cls\n",
      " 11 :  %colors\n",
      " 12 :  %conda\n",
      " 13 :  %config\n",
      " 14 :  %connect_info\n",
      " 15 :  %copy\n",
      " 16 :  %ddir\n",
      " 17 :  %debug\n",
      " 18 :  %dhist\n",
      " 19 :  %dirs\n",
      " 20 :  %doctest_mode\n",
      " 21 :  %echo\n",
      " 22 :  %ed\n",
      " 23 :  %edit\n",
      " 24 :  %env\n",
      " 25 :  %gui\n",
      " 26 :  %hist\n",
      " 27 :  %history\n",
      " 28 :  %killbgscripts\n",
      " 29 :  %ldir\n",
      " 30 :  %less\n",
      " 31 :  %load\n",
      " 32 :  %load_ext\n",
      " 33 :  %loadpy\n",
      " 34 :  %logoff\n",
      " 35 :  %logon\n",
      " 36 :  %logstart\n",
      " 37 :  %logstate\n",
      " 38 :  %logstop\n",
      " 39 :  %ls\n",
      " 40 :  %lsmagic\n",
      " 41 :  %macro\n",
      " 42 :  %magic\n",
      " 43 :  %matplotlib\n",
      " 44 :  %mkdir\n",
      " 45 :  %more\n",
      " 46 :  %notebook\n",
      " 47 :  %page\n",
      " 48 :  %pastebin\n",
      " 49 :  %pdb\n",
      " 50 :  %pdef\n",
      " 51 :  %pdoc\n",
      " 52 :  %pfile\n",
      " 53 :  %pinfo\n",
      " 54 :  %pinfo2\n",
      " 55 :  %pip\n",
      " 56 :  %popd\n",
      " 57 :  %pprint\n",
      " 58 :  %precision\n",
      " 59 :  %prun\n",
      " 60 :  %psearch\n",
      " 61 :  %psource\n",
      " 62 :  %pushd\n",
      " 63 :  %pwd\n",
      " 64 :  %pycat\n",
      " 65 :  %pylab\n",
      " 66 :  %qtconsole\n",
      " 67 :  %quickref\n",
      " 68 :  %recall\n",
      " 69 :  %rehashx\n",
      " 70 :  %reload_ext\n",
      " 71 :  %ren\n",
      " 72 :  %rep\n",
      " 73 :  %rerun\n",
      " 74 :  %reset\n",
      " 75 :  %reset_selective\n",
      " 76 :  %rmdir\n",
      " 77 :  %run\n",
      " 78 :  %save\n",
      " 79 :  %sc\n",
      " 80 :  %set_env\n",
      " 81 :  %store\n",
      " 82 :  %sx\n",
      " 83 :  %system\n",
      " 84 :  %tb\n",
      " 85 :  %time\n",
      " 86 :  %timeit\n",
      " 87 :  %unalias\n",
      " 88 :  %unload_ext\n",
      " 89 :  %who\n",
      " 90 :  %who_ls\n",
      " 91 :  %whos\n",
      " 92 :  %xdel\n",
      " 93 :  %xmode\n",
      " 94 :  %%!\n",
      " 95 :  %%HTML\n",
      " 96 :  %%SVG\n",
      " 97 :  %%bash\n",
      " 98 :  %%capture\n",
      " 99 :  %%cmd\n",
      "100 :  %%debug\n",
      "101 :  %%file\n",
      "102 :  %%html\n",
      "103 :  %%javascript\n",
      "104 :  %%js\n",
      "105 :  %%latex\n",
      "106 :  %%markdown\n",
      "107 :  %%perl\n",
      "108 :  %%prun\n",
      "109 :  %%pypy\n",
      "110 :  %%python\n",
      "111 :  %%python2\n",
      "112 :  %%python3\n",
      "113 :  %%ruby\n",
      "114 :  %%script\n",
      "115 :  %%sh\n",
      "116 :  %%svg\n",
      "117 :  %%sx\n",
      "118 :  %%system\n",
      "119 :  %%time\n",
      "120 :  %%timeit\n",
      "121 :  %%writefile\n",
      "There are 121 magic commands.\n"
     ]
    }
   ],
   "source": [
    "# I will convert it to string type then using split() method I will create a list.\n",
    "magic_split = str(magic_commands).split() #default delimiter is space!\n",
    "\n",
    "# Now we can iterate over this list and print the magic commands\n",
    "counter = 0\n",
    "for item in magic_split:\n",
    "    if item.startswith('%') and len(item) > 1:\n",
    "        counter += 1\n",
    "        print(str(counter).rjust(3), \": \", item)\n",
    "    \n",
    "print(f'There are {counter} magic commands.')"
   ]
  },
  {
   "cell_type": "code",
   "execution_count": 25,
   "metadata": {},
   "outputs": [],
   "source": [
    "# So, now we have learned that there are 121 magic commands and 93 of these is line magic commands and the remaining 28 \n",
    "# command is cell magic commands."
   ]
  },
  {
   "cell_type": "code",
   "execution_count": 35,
   "metadata": {},
   "outputs": [],
   "source": [
    "# We can add ? to the end of a magic command to get some help about it.\n",
    "# or we can use shift + tab as well\n",
    "%%timeit?"
   ]
  },
  {
   "cell_type": "markdown",
   "metadata": {},
   "source": [
    "## Some Markdown Examples"
   ]
  },
  {
   "cell_type": "markdown",
   "metadata": {},
   "source": [
    "## Table of Contents\n",
    "\n",
    "1. [Title 1](#Title-1)  \n",
    "\n",
    "2. [Title 2](#Title-2)\n",
    "\n",
    "1. [Title 3](#Title-3)  \n",
    "    1. [Subtitle 1](#Subtitle-1)  \n",
    "    1. [Subtitle 2](#Subtitle-2)  "
   ]
  },
  {
   "cell_type": "markdown",
   "metadata": {},
   "source": [
    "-----\n",
    "[Back to TOC](#Table-of-Contents)\n",
    "\n",
    "## Title 1\n",
    "\n"
   ]
  },
  {
   "cell_type": "markdown",
   "metadata": {},
   "source": [
    "-----\n",
    "[Back to TOC](#Table-of-Contents)\n",
    "\n",
    "## Title 2"
   ]
  },
  {
   "cell_type": "markdown",
   "metadata": {},
   "source": [
    "-----\n",
    "[Back to TOC](#Table-of-Contents)\n",
    "\n",
    "## Title 3"
   ]
  },
  {
   "cell_type": "markdown",
   "metadata": {},
   "source": [
    "-----\n",
    "[Back to TOC](#Table-of-Contents)\n",
    "\n",
    "#### Subtitle-1"
   ]
  },
  {
   "cell_type": "markdown",
   "metadata": {},
   "source": [
    "-----\n",
    "[Back to TOC](#Table-of-Contents)\n",
    "\n",
    "#### Subtitle-2"
   ]
  },
  {
   "cell_type": "markdown",
   "metadata": {},
   "source": [
    "## Math Formulae und using LaTex"
   ]
  },
  {
   "cell_type": "code",
   "execution_count": 41,
   "metadata": {},
   "outputs": [],
   "source": [
    "# Some examples"
   ]
  },
  {
   "cell_type": "markdown",
   "metadata": {},
   "source": [
    "alpha: $\\alpha$"
   ]
  },
  {
   "cell_type": "markdown",
   "metadata": {},
   "source": [
    "beta: $\\beta$"
   ]
  },
  {
   "cell_type": "markdown",
   "metadata": {},
   "source": [
    " theta : $\\theta$"
   ]
  },
  {
   "cell_type": "markdown",
   "metadata": {},
   "source": [
    "$\\int_0^{\\pi} \\sin(\\theta)\\ d\\theta = 2$"
   ]
  },
  {
   "cell_type": "code",
   "execution_count": null,
   "metadata": {},
   "outputs": [],
   "source": []
  },
  {
   "cell_type": "code",
   "execution_count": null,
   "metadata": {},
   "outputs": [],
   "source": []
  },
  {
   "cell_type": "code",
   "execution_count": null,
   "metadata": {},
   "outputs": [],
   "source": []
  }
 ],
 "metadata": {
  "kernelspec": {
   "display_name": "Python 3",
   "language": "python",
   "name": "python3"
  },
  "language_info": {
   "codemirror_mode": {
    "name": "ipython",
    "version": 3
   },
   "file_extension": ".py",
   "mimetype": "text/x-python",
   "name": "python",
   "nbconvert_exporter": "python",
   "pygments_lexer": "ipython3",
   "version": "3.8.5"
  }
 },
 "nbformat": 4,
 "nbformat_minor": 4
}
