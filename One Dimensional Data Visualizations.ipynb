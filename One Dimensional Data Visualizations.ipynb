{
 "cells": [
  {
   "cell_type": "markdown",
   "metadata": {},
   "source": [
    "### $$One  Dimensional  Data  isualizations$$"
   ]
  },
  {
   "cell_type": "markdown",
   "metadata": {},
   "source": [
    "<a id='toc'><h3>**Table of Contents**</h3></a>\n",
    "\n",
    "1. <a href='#onedim'>One Dimensional Data Visualizations</a>\n",
    "    1. <a href=\"#rugplot\">Rugplot</a>"
   ]
  },
  {
   "cell_type": "markdown",
   "metadata": {},
   "source": [
    "<a id='onedim'></a>\n",
    "### One Dimensional Data Visualizationsa"
   ]
  },
  {
   "cell_type": "code",
   "execution_count": 3,
   "metadata": {},
   "outputs": [],
   "source": [
    "# Set up Notebook\n",
    "%matplotlib inline\n",
    "\n",
    "# Standard imports\n",
    "import numpy as np\n",
    "import pandas as pd\n",
    "import matplotlib.pyplot as plt\n",
    "import seaborn as sns\n",
    "\n",
    "# We do this to ignore several specific Pandas warnings\n",
    "#import warnings\n",
    "#warnings.filterwarnings(\"ignore\")\n",
    "\n",
    "sns.set(style=\"white\")\n",
    "\n",
    "# Load the Tips Data\n",
    "tips = pd.read_csv(\"../../00_Common_Data_Sets/csv_files/tips.csv\")"
   ]
  },
  {
   "cell_type": "code",
   "execution_count": 4,
   "metadata": {},
   "outputs": [
    {
     "data": {
      "text/html": [
       "<div>\n",
       "<style scoped>\n",
       "    .dataframe tbody tr th:only-of-type {\n",
       "        vertical-align: middle;\n",
       "    }\n",
       "\n",
       "    .dataframe tbody tr th {\n",
       "        vertical-align: top;\n",
       "    }\n",
       "\n",
       "    .dataframe thead th {\n",
       "        text-align: right;\n",
       "    }\n",
       "</style>\n",
       "<table border=\"1\" class=\"dataframe\">\n",
       "  <thead>\n",
       "    <tr style=\"text-align: right;\">\n",
       "      <th></th>\n",
       "      <th>total_bill</th>\n",
       "      <th>tip</th>\n",
       "      <th>sex</th>\n",
       "      <th>smoker</th>\n",
       "      <th>day</th>\n",
       "      <th>time</th>\n",
       "      <th>size</th>\n",
       "    </tr>\n",
       "  </thead>\n",
       "  <tbody>\n",
       "    <tr>\n",
       "      <th>149</th>\n",
       "      <td>7.51</td>\n",
       "      <td>2.00</td>\n",
       "      <td>Male</td>\n",
       "      <td>No</td>\n",
       "      <td>Thur</td>\n",
       "      <td>Lunch</td>\n",
       "      <td>2</td>\n",
       "    </tr>\n",
       "    <tr>\n",
       "      <th>243</th>\n",
       "      <td>18.78</td>\n",
       "      <td>3.00</td>\n",
       "      <td>Female</td>\n",
       "      <td>No</td>\n",
       "      <td>Thur</td>\n",
       "      <td>Dinner</td>\n",
       "      <td>2</td>\n",
       "    </tr>\n",
       "    <tr>\n",
       "      <th>30</th>\n",
       "      <td>9.55</td>\n",
       "      <td>1.45</td>\n",
       "      <td>Male</td>\n",
       "      <td>No</td>\n",
       "      <td>Sat</td>\n",
       "      <td>Dinner</td>\n",
       "      <td>2</td>\n",
       "    </tr>\n",
       "    <tr>\n",
       "      <th>185</th>\n",
       "      <td>20.69</td>\n",
       "      <td>5.00</td>\n",
       "      <td>Male</td>\n",
       "      <td>No</td>\n",
       "      <td>Sun</td>\n",
       "      <td>Dinner</td>\n",
       "      <td>5</td>\n",
       "    </tr>\n",
       "    <tr>\n",
       "      <th>199</th>\n",
       "      <td>13.51</td>\n",
       "      <td>2.00</td>\n",
       "      <td>Male</td>\n",
       "      <td>Yes</td>\n",
       "      <td>Thur</td>\n",
       "      <td>Lunch</td>\n",
       "      <td>2</td>\n",
       "    </tr>\n",
       "  </tbody>\n",
       "</table>\n",
       "</div>"
      ],
      "text/plain": [
       "     total_bill   tip     sex smoker   day    time  size\n",
       "149        7.51  2.00    Male     No  Thur   Lunch     2\n",
       "243       18.78  3.00  Female     No  Thur  Dinner     2\n",
       "30         9.55  1.45    Male     No   Sat  Dinner     2\n",
       "185       20.69  5.00    Male     No   Sun  Dinner     5\n",
       "199       13.51  2.00    Male    Yes  Thur   Lunch     2"
      ]
     },
     "execution_count": 4,
     "metadata": {},
     "output_type": "execute_result"
    }
   ],
   "source": [
    "tips.sample(5)"
   ]
  },
  {
   "cell_type": "markdown",
   "metadata": {},
   "source": [
    "<a id=\"rugplot\"></a>\n",
    "## Rugplot\n",
    "\n",
    "A rugplot is a simple plot that displays a one-dimensional distribution of data. In Python, we can make rugplots by using the [`rugplot` function][sr] provided by the seaborn module, which takes a column from a Pandas DataFrame, such as `tips['total_bill']`, and draws short vertical lines along the x-axis for every data point in the column. Optional arguments to this function include a `height` parameter, which specifies how long (in inches) the vertical line should extend, `lw` for the thickness of the vertical line (too small and it becomes hard to see the lines, and too large will cause adjacent lines to blend together), and the `color` parameter, which specifies a color for the vertical lines. For example, `color = sns.xkcd_rgb[\"pale red\"]` will set the histogram color to be the seaborn pale red, which is inspired by the **[XKCD][x]** comic strip. For more color examples, see the [HTML color name][4] page or the [seaborn][sp] palette webpage. \n",
    "\n",
    "-----\n",
    "\n",
    "[x]: https://xkcd.com\n",
    "[sp]: http://seaborn.pydata.org/tutorial/color_palettes.html\n",
    "[sr]: http://seaborn.pydata.org/generated/seaborn.rugplot.html?highlight=rugplot\n",
    "[4]: https://www.w3schools.com/colors/colors_names.asp"
   ]
  },
  {
   "cell_type": "code",
   "execution_count": 5,
   "metadata": {},
   "outputs": [
    {
     "data": {
      "image/png": "[encoded data removed]",
      "text/plain": [
       "<Figure size 720x108 with 1 Axes>"
      ]
     },
     "metadata": {},
     "output_type": "display_data"
    }
   ],
   "source": [
    "# Define plot layout\n",
    "fig, ax = plt.subplots(figsize=(10, 1.5))\n",
    "\n",
    "# Make the rugplot\n",
    "sns.rugplot(ax = ax, x=tips['total_bill'], height=0.25, lw=0.5, color = sns.xkcd_rgb[\"pale red\"]) ;"
   ]
  },
  {
   "cell_type": "markdown",
   "metadata": {},
   "source": [
    "-----\n",
    "\n",
    "While illustrative, this simple rug plot does not convey the necessary information in a clear and visually compelling manner. Before proceeding, we can make several changes to the plot to improve the presentation and emphasize the distribution of points more clearly. First, we remove the box and eliminate a y-axis, which is unnecessary for this one-dimensional plot. This is done by using both seaborn to trim the unused axes and by indicating there are no _tick_ marks for the y-axis, which is done by passing in an empty array to the `set_yticks` method. Finally, we annotate the plot appropriately. Please note that we use `ax.text()` to anotate the plot. This function print out a text at specified location in the plot. You may also try use `ax.set_title()` to set a title that always prints the title on top of the plot. We also employ the seaborn `despine` function to remove the top and right spines from the plot.\n",
    "\n",
    "-----"
   ]
  },
  {
   "cell_type": "code",
   "execution_count": 6,
   "metadata": {},
   "outputs": [
    {
     "name": "stdout",
     "output_type": "stream",
     "text": [
      "Help on function despine in module seaborn.utils:\n",
      "\n",
      "despine(fig=None, ax=None, top=True, right=True, left=False, bottom=False, offset=None, trim=False)\n",
      "    Remove the top and right spines from plot(s).\n",
      "    \n",
      "    fig : matplotlib figure, optional\n",
      "        Figure to despine all axes of, defaults to the current figure.\n",
      "    ax : matplotlib axes, optional\n",
      "        Specific axes object to despine. Ignored if fig is provided.\n",
      "    top, right, left, bottom : boolean, optional\n",
      "        If True, remove that spine.\n",
      "    offset : int or dict, optional\n",
      "        Absolute distance, in points, spines should be moved away\n",
      "        from the axes (negative values move spines inward). A single value\n",
      "        applies to all spines; a dict can be used to set offset values per\n",
      "        side.\n",
      "    trim : bool, optional\n",
      "        If True, limit spines to the smallest and largest major tick\n",
      "        on each non-despined axis.\n",
      "    \n",
      "    Returns\n",
      "    -------\n",
      "    None\n",
      "\n"
     ]
    }
   ],
   "source": [
    "help(sns.despine)"
   ]
  },
  {
   "cell_type": "code",
   "execution_count": 7,
   "metadata": {},
   "outputs": [
    {
     "data": {
      "image/png": "[encoded data removed]",
      "text/plain": [
       "<Figure size 720x108 with 1 Axes>"
      ]
     },
     "metadata": {},
     "output_type": "display_data"
    }
   ],
   "source": [
    "# Define plot layout\n",
    "fig, ax = plt.subplots(figsize=(10, 1.5))\n",
    "\n",
    "# Make the rugplot\n",
    "sns.rugplot(ax = ax, x=tips['total_bill'], height=0.25, lw=0.5, c = sns.xkcd_rgb[\"pale red\"])\n",
    "\n",
    "# Remove y axis (by using empty array)\n",
    "ax.set_yticks([])\n",
    "\n",
    "# Set x-axis length and label\n",
    "ax.set_xlim(-2, 62)\n",
    "ax.set_xlabel('Total Bill (\\$)', fontsize=14)\n",
    "\n",
    "# Annotate the plot\n",
    "ax.text(30, 0.05, 'Rug Plot (Tips Data)', ha='center', fontsize=14)  # 0.05 = sets the heigth of text from the figure\n",
    "\n",
    "# Clean up plot appearance\n",
    "sns.despine(ax=ax, left=True, offset=2, trim=True)"
   ]
  },
  {
   "cell_type": "markdown",
   "metadata": {},
   "source": [
    "-----\n",
    "\n",
    "We can also compare and contrast two data sets directly by plotting their rug plots together. This method is demonstrated below, where we compare the `total_bill` column in the _tips_ data set, distinguished by _lunch_ and _dinner_. In this case, we loop over the two data sets and repeat the plot functionality as needed. To display two rugplots on the same matplotlib figure, we have to change our plotting code slightly. First, we pass into the `subplots` function several extra parameters:\n",
    "\n",
    "- `nrows`: the number of rows that will contain sub-plots,\n",
    "- `ncols`: the number of columns that will contain sub-plots,\n",
    "- `sharex`: whether the plots share the x-axis, and\n",
    "- `sharey`: whether the plots share the y-axis.\n",
    "\n",
    "Thus, if we wish to have two plots, one on top of the other sharing the same x-axis, we have the following functions call:\n",
    "\n",
    "```python\n",
    "fig, axs = plt.subplots(nrows=2, ncols=1, sharex=True)\n",
    "```\n",
    "\n",
    "The `axs` variable holds a Python `list` that contains the plot axes for each sub-plot. To change which set of axes are used for a given plot, we simply select the appropriate element from the list, which is shown in the code example below. Overall, this technique works for simple plot layouts.  We will cover more complex plot layouts in a subsequent module.\n",
    "\n",
    "-----"
   ]
  },
  {
   "cell_type": "code",
   "execution_count": null,
   "metadata": {},
   "outputs": [],
   "source": []
  }
 ],
 "metadata": {
  "kernelspec": {
   "display_name": "Python 3",
   "language": "python",
   "name": "python3"
  },
  "language_info": {
   "codemirror_mode": {
    "name": "ipython",
    "version": 3
   },
   "file_extension": ".py",
   "mimetype": "text/x-python",
   "name": "python",
   "nbconvert_exporter": "python",
   "pygments_lexer": "ipython3",
   "version": "3.8.5"
  }
 },
 "nbformat": 4,
 "nbformat_minor": 4
}
