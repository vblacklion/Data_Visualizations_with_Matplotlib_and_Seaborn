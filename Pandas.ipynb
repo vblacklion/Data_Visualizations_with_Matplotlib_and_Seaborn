{
 "cells": [
  {
   "cell_type": "markdown",
   "metadata": {},
   "source": [
    "<a id='toc'></a>\n",
    "### Table of Contents\n",
    "\n",
    "1. [The Zen of Python](#The-Zen-of-Python)\n",
    "2. <a href='#kwd'>Keywords</a>\n",
    "3. <a href='#caem'>Command and Edit Modes</a>\n",
    "4. <a href='#smdex'>Some Markdown Examples</a>\n",
    "5. <a href='#mfalt'>Math Formulae and using LaTex</a>\n",
    "6. <a href='#bif'>Built-in Functions</a>\n",
    "7. <a href='#strings'>Formatted Strings</a>\n",
    "8. <a href='#shadeepcopy'>Shallow and Deep Copies</a>\n",
    "9. <a href='#ladcomp'>List and Dict Comprehensions</a>\n",
    "10. <a href='#numpy'>Numpy</a>\n",
    "11. <a href='#arraydtypes'>Array Data Types</a>\n",
    "12. <a href='#pandas'>Pandas</a>\n",
    "13. <a href='#readwrite'>Reading/Writing Files</a>"
   ]
  },
  {
   "cell_type": "code",
   "execution_count": 1,
   "metadata": {},
   "outputs": [],
   "source": [
    "import numpy as np\n",
    "import pandas as pd"
   ]
  },
  {
   "cell_type": "code",
   "execution_count": null,
   "metadata": {},
   "outputs": [],
   "source": []
  }
 ],
 "metadata": {
  "kernelspec": {
   "display_name": "Python 3",
   "language": "python",
   "name": "python3"
  },
  "language_info": {
   "codemirror_mode": {
    "name": "ipython",
    "version": 3
   },
   "file_extension": ".py",
   "mimetype": "text/x-python",
   "name": "python",
   "nbconvert_exporter": "python",
   "pygments_lexer": "ipython3",
   "version": "3.8.5"
  }
 },
 "nbformat": 4,
 "nbformat_minor": 4
}
